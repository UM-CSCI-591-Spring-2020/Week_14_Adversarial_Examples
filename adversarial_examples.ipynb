{
  "nbformat": 4,
  "nbformat_minor": 0,
  "metadata": {
    "kernelspec": {
      "display_name": "Python 3",
      "language": "python",
      "name": "python3"
    },
    "language_info": {
      "codemirror_mode": {
        "name": "ipython",
        "version": 3
      },
      "file_extension": ".py",
      "mimetype": "text/x-python",
      "name": "python",
      "nbconvert_exporter": "python",
      "pygments_lexer": "ipython3",
      "version": "3.6.9"
    },
    "colab": {
      "name": "adversarial_examples.ipynb",
      "provenance": [],
      "collapsed_sections": []
    },
    "accelerator": "GPU",
    "widgets": {
      "application/vnd.jupyter.widget-state+json": {
        "4bd664c6474c48d9ab30f97e976c7f8a": {
          "model_module": "@jupyter-widgets/controls",
          "model_name": "HBoxModel",
          "state": {
            "_view_name": "HBoxView",
            "_dom_classes": [],
            "_model_name": "HBoxModel",
            "_view_module": "@jupyter-widgets/controls",
            "_model_module_version": "1.5.0",
            "_view_count": null,
            "_view_module_version": "1.5.0",
            "box_style": "",
            "layout": "IPY_MODEL_2639f416befa453896f213fcb57ef859",
            "_model_module": "@jupyter-widgets/controls",
            "children": [
              "IPY_MODEL_d886e997192d4b58ac168d6ebda00166",
              "IPY_MODEL_d55e87faaf1f493ca6eef267985d763c"
            ]
          }
        },
        "2639f416befa453896f213fcb57ef859": {
          "model_module": "@jupyter-widgets/base",
          "model_name": "LayoutModel",
          "state": {
            "_view_name": "LayoutView",
            "grid_template_rows": null,
            "right": null,
            "justify_content": null,
            "_view_module": "@jupyter-widgets/base",
            "overflow": null,
            "_model_module_version": "1.2.0",
            "_view_count": null,
            "flex_flow": null,
            "width": null,
            "min_width": null,
            "border": null,
            "align_items": null,
            "bottom": null,
            "_model_module": "@jupyter-widgets/base",
            "top": null,
            "grid_column": null,
            "overflow_y": null,
            "overflow_x": null,
            "grid_auto_flow": null,
            "grid_area": null,
            "grid_template_columns": null,
            "flex": null,
            "_model_name": "LayoutModel",
            "justify_items": null,
            "grid_row": null,
            "max_height": null,
            "align_content": null,
            "visibility": null,
            "align_self": null,
            "height": null,
            "min_height": null,
            "padding": null,
            "grid_auto_rows": null,
            "grid_gap": null,
            "max_width": null,
            "order": null,
            "_view_module_version": "1.2.0",
            "grid_template_areas": null,
            "object_position": null,
            "object_fit": null,
            "grid_auto_columns": null,
            "margin": null,
            "display": null,
            "left": null
          }
        },
        "d886e997192d4b58ac168d6ebda00166": {
          "model_module": "@jupyter-widgets/controls",
          "model_name": "IntProgressModel",
          "state": {
            "_view_name": "ProgressView",
            "style": "IPY_MODEL_1da9f979d2b94ad6868b28a53831df83",
            "_dom_classes": [],
            "description": "",
            "_model_name": "IntProgressModel",
            "bar_style": "info",
            "max": 1,
            "_view_module": "@jupyter-widgets/controls",
            "_model_module_version": "1.5.0",
            "value": 1,
            "_view_count": null,
            "_view_module_version": "1.5.0",
            "orientation": "horizontal",
            "min": 0,
            "description_tooltip": null,
            "_model_module": "@jupyter-widgets/controls",
            "layout": "IPY_MODEL_e6824aa0701240b1a9fa163b40342f00"
          }
        },
        "d55e87faaf1f493ca6eef267985d763c": {
          "model_module": "@jupyter-widgets/controls",
          "model_name": "HTMLModel",
          "state": {
            "_view_name": "HTMLView",
            "style": "IPY_MODEL_7974262e11ca430b9dd8ba704abcac1a",
            "_dom_classes": [],
            "description": "",
            "_model_name": "HTMLModel",
            "placeholder": "​",
            "_view_module": "@jupyter-widgets/controls",
            "_model_module_version": "1.5.0",
            "value": " 9920512/? [00:20&lt;00:00, 725943.61it/s]",
            "_view_count": null,
            "_view_module_version": "1.5.0",
            "description_tooltip": null,
            "_model_module": "@jupyter-widgets/controls",
            "layout": "IPY_MODEL_d715272dfc5e4ecb9198fee692e6ff32"
          }
        },
        "1da9f979d2b94ad6868b28a53831df83": {
          "model_module": "@jupyter-widgets/controls",
          "model_name": "ProgressStyleModel",
          "state": {
            "_view_name": "StyleView",
            "_model_name": "ProgressStyleModel",
            "description_width": "initial",
            "_view_module": "@jupyter-widgets/base",
            "_model_module_version": "1.5.0",
            "_view_count": null,
            "_view_module_version": "1.2.0",
            "bar_color": null,
            "_model_module": "@jupyter-widgets/controls"
          }
        },
        "e6824aa0701240b1a9fa163b40342f00": {
          "model_module": "@jupyter-widgets/base",
          "model_name": "LayoutModel",
          "state": {
            "_view_name": "LayoutView",
            "grid_template_rows": null,
            "right": null,
            "justify_content": null,
            "_view_module": "@jupyter-widgets/base",
            "overflow": null,
            "_model_module_version": "1.2.0",
            "_view_count": null,
            "flex_flow": null,
            "width": null,
            "min_width": null,
            "border": null,
            "align_items": null,
            "bottom": null,
            "_model_module": "@jupyter-widgets/base",
            "top": null,
            "grid_column": null,
            "overflow_y": null,
            "overflow_x": null,
            "grid_auto_flow": null,
            "grid_area": null,
            "grid_template_columns": null,
            "flex": null,
            "_model_name": "LayoutModel",
            "justify_items": null,
            "grid_row": null,
            "max_height": null,
            "align_content": null,
            "visibility": null,
            "align_self": null,
            "height": null,
            "min_height": null,
            "padding": null,
            "grid_auto_rows": null,
            "grid_gap": null,
            "max_width": null,
            "order": null,
            "_view_module_version": "1.2.0",
            "grid_template_areas": null,
            "object_position": null,
            "object_fit": null,
            "grid_auto_columns": null,
            "margin": null,
            "display": null,
            "left": null
          }
        },
        "7974262e11ca430b9dd8ba704abcac1a": {
          "model_module": "@jupyter-widgets/controls",
          "model_name": "DescriptionStyleModel",
          "state": {
            "_view_name": "StyleView",
            "_model_name": "DescriptionStyleModel",
            "description_width": "",
            "_view_module": "@jupyter-widgets/base",
            "_model_module_version": "1.5.0",
            "_view_count": null,
            "_view_module_version": "1.2.0",
            "_model_module": "@jupyter-widgets/controls"
          }
        },
        "d715272dfc5e4ecb9198fee692e6ff32": {
          "model_module": "@jupyter-widgets/base",
          "model_name": "LayoutModel",
          "state": {
            "_view_name": "LayoutView",
            "grid_template_rows": null,
            "right": null,
            "justify_content": null,
            "_view_module": "@jupyter-widgets/base",
            "overflow": null,
            "_model_module_version": "1.2.0",
            "_view_count": null,
            "flex_flow": null,
            "width": null,
            "min_width": null,
            "border": null,
            "align_items": null,
            "bottom": null,
            "_model_module": "@jupyter-widgets/base",
            "top": null,
            "grid_column": null,
            "overflow_y": null,
            "overflow_x": null,
            "grid_auto_flow": null,
            "grid_area": null,
            "grid_template_columns": null,
            "flex": null,
            "_model_name": "LayoutModel",
            "justify_items": null,
            "grid_row": null,
            "max_height": null,
            "align_content": null,
            "visibility": null,
            "align_self": null,
            "height": null,
            "min_height": null,
            "padding": null,
            "grid_auto_rows": null,
            "grid_gap": null,
            "max_width": null,
            "order": null,
            "_view_module_version": "1.2.0",
            "grid_template_areas": null,
            "object_position": null,
            "object_fit": null,
            "grid_auto_columns": null,
            "margin": null,
            "display": null,
            "left": null
          }
        },
        "35dd20c07f6243b4b0649f854c87b9c0": {
          "model_module": "@jupyter-widgets/controls",
          "model_name": "HBoxModel",
          "state": {
            "_view_name": "HBoxView",
            "_dom_classes": [],
            "_model_name": "HBoxModel",
            "_view_module": "@jupyter-widgets/controls",
            "_model_module_version": "1.5.0",
            "_view_count": null,
            "_view_module_version": "1.5.0",
            "box_style": "",
            "layout": "IPY_MODEL_e91138ae826346f4996964b7012b2756",
            "_model_module": "@jupyter-widgets/controls",
            "children": [
              "IPY_MODEL_cb8d16f35d30428ab2a7679d534b78ec",
              "IPY_MODEL_744cad24eba3434e9a30b2f7cafd20f9"
            ]
          }
        },
        "e91138ae826346f4996964b7012b2756": {
          "model_module": "@jupyter-widgets/base",
          "model_name": "LayoutModel",
          "state": {
            "_view_name": "LayoutView",
            "grid_template_rows": null,
            "right": null,
            "justify_content": null,
            "_view_module": "@jupyter-widgets/base",
            "overflow": null,
            "_model_module_version": "1.2.0",
            "_view_count": null,
            "flex_flow": null,
            "width": null,
            "min_width": null,
            "border": null,
            "align_items": null,
            "bottom": null,
            "_model_module": "@jupyter-widgets/base",
            "top": null,
            "grid_column": null,
            "overflow_y": null,
            "overflow_x": null,
            "grid_auto_flow": null,
            "grid_area": null,
            "grid_template_columns": null,
            "flex": null,
            "_model_name": "LayoutModel",
            "justify_items": null,
            "grid_row": null,
            "max_height": null,
            "align_content": null,
            "visibility": null,
            "align_self": null,
            "height": null,
            "min_height": null,
            "padding": null,
            "grid_auto_rows": null,
            "grid_gap": null,
            "max_width": null,
            "order": null,
            "_view_module_version": "1.2.0",
            "grid_template_areas": null,
            "object_position": null,
            "object_fit": null,
            "grid_auto_columns": null,
            "margin": null,
            "display": null,
            "left": null
          }
        },
        "cb8d16f35d30428ab2a7679d534b78ec": {
          "model_module": "@jupyter-widgets/controls",
          "model_name": "IntProgressModel",
          "state": {
            "_view_name": "ProgressView",
            "style": "IPY_MODEL_132f4710cf6848988dfbe11b4979e486",
            "_dom_classes": [],
            "description": "  0%",
            "_model_name": "IntProgressModel",
            "bar_style": "info",
            "max": 1,
            "_view_module": "@jupyter-widgets/controls",
            "_model_module_version": "1.5.0",
            "value": 0,
            "_view_count": null,
            "_view_module_version": "1.5.0",
            "orientation": "horizontal",
            "min": 0,
            "description_tooltip": null,
            "_model_module": "@jupyter-widgets/controls",
            "layout": "IPY_MODEL_4d193173cd2f4310b333c9bf87fe0c25"
          }
        },
        "744cad24eba3434e9a30b2f7cafd20f9": {
          "model_module": "@jupyter-widgets/controls",
          "model_name": "HTMLModel",
          "state": {
            "_view_name": "HTMLView",
            "style": "IPY_MODEL_6abd415380aa44b2b8dbf52442819bbf",
            "_dom_classes": [],
            "description": "",
            "_model_name": "HTMLModel",
            "placeholder": "​",
            "_view_module": "@jupyter-widgets/controls",
            "_model_module_version": "1.5.0",
            "value": " 0/28881 [00:00&lt;?, ?it/s]",
            "_view_count": null,
            "_view_module_version": "1.5.0",
            "description_tooltip": null,
            "_model_module": "@jupyter-widgets/controls",
            "layout": "IPY_MODEL_18cade4aaaf44a598568cb312682b828"
          }
        },
        "132f4710cf6848988dfbe11b4979e486": {
          "model_module": "@jupyter-widgets/controls",
          "model_name": "ProgressStyleModel",
          "state": {
            "_view_name": "StyleView",
            "_model_name": "ProgressStyleModel",
            "description_width": "initial",
            "_view_module": "@jupyter-widgets/base",
            "_model_module_version": "1.5.0",
            "_view_count": null,
            "_view_module_version": "1.2.0",
            "bar_color": null,
            "_model_module": "@jupyter-widgets/controls"
          }
        },
        "4d193173cd2f4310b333c9bf87fe0c25": {
          "model_module": "@jupyter-widgets/base",
          "model_name": "LayoutModel",
          "state": {
            "_view_name": "LayoutView",
            "grid_template_rows": null,
            "right": null,
            "justify_content": null,
            "_view_module": "@jupyter-widgets/base",
            "overflow": null,
            "_model_module_version": "1.2.0",
            "_view_count": null,
            "flex_flow": null,
            "width": null,
            "min_width": null,
            "border": null,
            "align_items": null,
            "bottom": null,
            "_model_module": "@jupyter-widgets/base",
            "top": null,
            "grid_column": null,
            "overflow_y": null,
            "overflow_x": null,
            "grid_auto_flow": null,
            "grid_area": null,
            "grid_template_columns": null,
            "flex": null,
            "_model_name": "LayoutModel",
            "justify_items": null,
            "grid_row": null,
            "max_height": null,
            "align_content": null,
            "visibility": null,
            "align_self": null,
            "height": null,
            "min_height": null,
            "padding": null,
            "grid_auto_rows": null,
            "grid_gap": null,
            "max_width": null,
            "order": null,
            "_view_module_version": "1.2.0",
            "grid_template_areas": null,
            "object_position": null,
            "object_fit": null,
            "grid_auto_columns": null,
            "margin": null,
            "display": null,
            "left": null
          }
        },
        "6abd415380aa44b2b8dbf52442819bbf": {
          "model_module": "@jupyter-widgets/controls",
          "model_name": "DescriptionStyleModel",
          "state": {
            "_view_name": "StyleView",
            "_model_name": "DescriptionStyleModel",
            "description_width": "",
            "_view_module": "@jupyter-widgets/base",
            "_model_module_version": "1.5.0",
            "_view_count": null,
            "_view_module_version": "1.2.0",
            "_model_module": "@jupyter-widgets/controls"
          }
        },
        "18cade4aaaf44a598568cb312682b828": {
          "model_module": "@jupyter-widgets/base",
          "model_name": "LayoutModel",
          "state": {
            "_view_name": "LayoutView",
            "grid_template_rows": null,
            "right": null,
            "justify_content": null,
            "_view_module": "@jupyter-widgets/base",
            "overflow": null,
            "_model_module_version": "1.2.0",
            "_view_count": null,
            "flex_flow": null,
            "width": null,
            "min_width": null,
            "border": null,
            "align_items": null,
            "bottom": null,
            "_model_module": "@jupyter-widgets/base",
            "top": null,
            "grid_column": null,
            "overflow_y": null,
            "overflow_x": null,
            "grid_auto_flow": null,
            "grid_area": null,
            "grid_template_columns": null,
            "flex": null,
            "_model_name": "LayoutModel",
            "justify_items": null,
            "grid_row": null,
            "max_height": null,
            "align_content": null,
            "visibility": null,
            "align_self": null,
            "height": null,
            "min_height": null,
            "padding": null,
            "grid_auto_rows": null,
            "grid_gap": null,
            "max_width": null,
            "order": null,
            "_view_module_version": "1.2.0",
            "grid_template_areas": null,
            "object_position": null,
            "object_fit": null,
            "grid_auto_columns": null,
            "margin": null,
            "display": null,
            "left": null
          }
        },
        "1c2abbcdb94e49d390b8a136014c2c9e": {
          "model_module": "@jupyter-widgets/controls",
          "model_name": "HBoxModel",
          "state": {
            "_view_name": "HBoxView",
            "_dom_classes": [],
            "_model_name": "HBoxModel",
            "_view_module": "@jupyter-widgets/controls",
            "_model_module_version": "1.5.0",
            "_view_count": null,
            "_view_module_version": "1.5.0",
            "box_style": "",
            "layout": "IPY_MODEL_4cc0f910eba24eb98804a3b715319b33",
            "_model_module": "@jupyter-widgets/controls",
            "children": [
              "IPY_MODEL_2aca8cfb1fee4035b3fd4406349aa8a4",
              "IPY_MODEL_d753360b6296449b9ef26e552bf9840c"
            ]
          }
        },
        "4cc0f910eba24eb98804a3b715319b33": {
          "model_module": "@jupyter-widgets/base",
          "model_name": "LayoutModel",
          "state": {
            "_view_name": "LayoutView",
            "grid_template_rows": null,
            "right": null,
            "justify_content": null,
            "_view_module": "@jupyter-widgets/base",
            "overflow": null,
            "_model_module_version": "1.2.0",
            "_view_count": null,
            "flex_flow": null,
            "width": null,
            "min_width": null,
            "border": null,
            "align_items": null,
            "bottom": null,
            "_model_module": "@jupyter-widgets/base",
            "top": null,
            "grid_column": null,
            "overflow_y": null,
            "overflow_x": null,
            "grid_auto_flow": null,
            "grid_area": null,
            "grid_template_columns": null,
            "flex": null,
            "_model_name": "LayoutModel",
            "justify_items": null,
            "grid_row": null,
            "max_height": null,
            "align_content": null,
            "visibility": null,
            "align_self": null,
            "height": null,
            "min_height": null,
            "padding": null,
            "grid_auto_rows": null,
            "grid_gap": null,
            "max_width": null,
            "order": null,
            "_view_module_version": "1.2.0",
            "grid_template_areas": null,
            "object_position": null,
            "object_fit": null,
            "grid_auto_columns": null,
            "margin": null,
            "display": null,
            "left": null
          }
        },
        "2aca8cfb1fee4035b3fd4406349aa8a4": {
          "model_module": "@jupyter-widgets/controls",
          "model_name": "IntProgressModel",
          "state": {
            "_view_name": "ProgressView",
            "style": "IPY_MODEL_0bf4cf6348ad400583c62ad82dbcedff",
            "_dom_classes": [],
            "description": "",
            "_model_name": "IntProgressModel",
            "bar_style": "success",
            "max": 1,
            "_view_module": "@jupyter-widgets/controls",
            "_model_module_version": "1.5.0",
            "value": 1,
            "_view_count": null,
            "_view_module_version": "1.5.0",
            "orientation": "horizontal",
            "min": 0,
            "description_tooltip": null,
            "_model_module": "@jupyter-widgets/controls",
            "layout": "IPY_MODEL_d300af4165b4494e978e4d0f506daa22"
          }
        },
        "d753360b6296449b9ef26e552bf9840c": {
          "model_module": "@jupyter-widgets/controls",
          "model_name": "HTMLModel",
          "state": {
            "_view_name": "HTMLView",
            "style": "IPY_MODEL_cd2e1593d7144ff9a6920e6862021776",
            "_dom_classes": [],
            "description": "",
            "_model_name": "HTMLModel",
            "placeholder": "​",
            "_view_module": "@jupyter-widgets/controls",
            "_model_module_version": "1.5.0",
            "value": " 1654784/? [00:07&lt;00:00, 221979.13it/s]",
            "_view_count": null,
            "_view_module_version": "1.5.0",
            "description_tooltip": null,
            "_model_module": "@jupyter-widgets/controls",
            "layout": "IPY_MODEL_c632e4cf62d04732b80c543df910793f"
          }
        },
        "0bf4cf6348ad400583c62ad82dbcedff": {
          "model_module": "@jupyter-widgets/controls",
          "model_name": "ProgressStyleModel",
          "state": {
            "_view_name": "StyleView",
            "_model_name": "ProgressStyleModel",
            "description_width": "initial",
            "_view_module": "@jupyter-widgets/base",
            "_model_module_version": "1.5.0",
            "_view_count": null,
            "_view_module_version": "1.2.0",
            "bar_color": null,
            "_model_module": "@jupyter-widgets/controls"
          }
        },
        "d300af4165b4494e978e4d0f506daa22": {
          "model_module": "@jupyter-widgets/base",
          "model_name": "LayoutModel",
          "state": {
            "_view_name": "LayoutView",
            "grid_template_rows": null,
            "right": null,
            "justify_content": null,
            "_view_module": "@jupyter-widgets/base",
            "overflow": null,
            "_model_module_version": "1.2.0",
            "_view_count": null,
            "flex_flow": null,
            "width": null,
            "min_width": null,
            "border": null,
            "align_items": null,
            "bottom": null,
            "_model_module": "@jupyter-widgets/base",
            "top": null,
            "grid_column": null,
            "overflow_y": null,
            "overflow_x": null,
            "grid_auto_flow": null,
            "grid_area": null,
            "grid_template_columns": null,
            "flex": null,
            "_model_name": "LayoutModel",
            "justify_items": null,
            "grid_row": null,
            "max_height": null,
            "align_content": null,
            "visibility": null,
            "align_self": null,
            "height": null,
            "min_height": null,
            "padding": null,
            "grid_auto_rows": null,
            "grid_gap": null,
            "max_width": null,
            "order": null,
            "_view_module_version": "1.2.0",
            "grid_template_areas": null,
            "object_position": null,
            "object_fit": null,
            "grid_auto_columns": null,
            "margin": null,
            "display": null,
            "left": null
          }
        },
        "cd2e1593d7144ff9a6920e6862021776": {
          "model_module": "@jupyter-widgets/controls",
          "model_name": "DescriptionStyleModel",
          "state": {
            "_view_name": "StyleView",
            "_model_name": "DescriptionStyleModel",
            "description_width": "",
            "_view_module": "@jupyter-widgets/base",
            "_model_module_version": "1.5.0",
            "_view_count": null,
            "_view_module_version": "1.2.0",
            "_model_module": "@jupyter-widgets/controls"
          }
        },
        "c632e4cf62d04732b80c543df910793f": {
          "model_module": "@jupyter-widgets/base",
          "model_name": "LayoutModel",
          "state": {
            "_view_name": "LayoutView",
            "grid_template_rows": null,
            "right": null,
            "justify_content": null,
            "_view_module": "@jupyter-widgets/base",
            "overflow": null,
            "_model_module_version": "1.2.0",
            "_view_count": null,
            "flex_flow": null,
            "width": null,
            "min_width": null,
            "border": null,
            "align_items": null,
            "bottom": null,
            "_model_module": "@jupyter-widgets/base",
            "top": null,
            "grid_column": null,
            "overflow_y": null,
            "overflow_x": null,
            "grid_auto_flow": null,
            "grid_area": null,
            "grid_template_columns": null,
            "flex": null,
            "_model_name": "LayoutModel",
            "justify_items": null,
            "grid_row": null,
            "max_height": null,
            "align_content": null,
            "visibility": null,
            "align_self": null,
            "height": null,
            "min_height": null,
            "padding": null,
            "grid_auto_rows": null,
            "grid_gap": null,
            "max_width": null,
            "order": null,
            "_view_module_version": "1.2.0",
            "grid_template_areas": null,
            "object_position": null,
            "object_fit": null,
            "grid_auto_columns": null,
            "margin": null,
            "display": null,
            "left": null
          }
        },
        "6e37ec9443f7406f9fcc18a3a5e01466": {
          "model_module": "@jupyter-widgets/controls",
          "model_name": "HBoxModel",
          "state": {
            "_view_name": "HBoxView",
            "_dom_classes": [],
            "_model_name": "HBoxModel",
            "_view_module": "@jupyter-widgets/controls",
            "_model_module_version": "1.5.0",
            "_view_count": null,
            "_view_module_version": "1.5.0",
            "box_style": "",
            "layout": "IPY_MODEL_0e6e86c2b233430fa57adf412d057165",
            "_model_module": "@jupyter-widgets/controls",
            "children": [
              "IPY_MODEL_74b4c3177f01400a99b9bfca7a995970",
              "IPY_MODEL_3132be86fcaf45f8b861ce56cdbf1527"
            ]
          }
        },
        "0e6e86c2b233430fa57adf412d057165": {
          "model_module": "@jupyter-widgets/base",
          "model_name": "LayoutModel",
          "state": {
            "_view_name": "LayoutView",
            "grid_template_rows": null,
            "right": null,
            "justify_content": null,
            "_view_module": "@jupyter-widgets/base",
            "overflow": null,
            "_model_module_version": "1.2.0",
            "_view_count": null,
            "flex_flow": null,
            "width": null,
            "min_width": null,
            "border": null,
            "align_items": null,
            "bottom": null,
            "_model_module": "@jupyter-widgets/base",
            "top": null,
            "grid_column": null,
            "overflow_y": null,
            "overflow_x": null,
            "grid_auto_flow": null,
            "grid_area": null,
            "grid_template_columns": null,
            "flex": null,
            "_model_name": "LayoutModel",
            "justify_items": null,
            "grid_row": null,
            "max_height": null,
            "align_content": null,
            "visibility": null,
            "align_self": null,
            "height": null,
            "min_height": null,
            "padding": null,
            "grid_auto_rows": null,
            "grid_gap": null,
            "max_width": null,
            "order": null,
            "_view_module_version": "1.2.0",
            "grid_template_areas": null,
            "object_position": null,
            "object_fit": null,
            "grid_auto_columns": null,
            "margin": null,
            "display": null,
            "left": null
          }
        },
        "74b4c3177f01400a99b9bfca7a995970": {
          "model_module": "@jupyter-widgets/controls",
          "model_name": "IntProgressModel",
          "state": {
            "_view_name": "ProgressView",
            "style": "IPY_MODEL_40add84ad252405aa560250c61e39014",
            "_dom_classes": [],
            "description": "",
            "_model_name": "IntProgressModel",
            "bar_style": "success",
            "max": 1,
            "_view_module": "@jupyter-widgets/controls",
            "_model_module_version": "1.5.0",
            "value": 1,
            "_view_count": null,
            "_view_module_version": "1.5.0",
            "orientation": "horizontal",
            "min": 0,
            "description_tooltip": null,
            "_model_module": "@jupyter-widgets/controls",
            "layout": "IPY_MODEL_6f67777b35264b519f59f1a58e453300"
          }
        },
        "3132be86fcaf45f8b861ce56cdbf1527": {
          "model_module": "@jupyter-widgets/controls",
          "model_name": "HTMLModel",
          "state": {
            "_view_name": "HTMLView",
            "style": "IPY_MODEL_f25f6758ff4f40bab681d582f7c48942",
            "_dom_classes": [],
            "description": "",
            "_model_name": "HTMLModel",
            "placeholder": "​",
            "_view_module": "@jupyter-widgets/controls",
            "_model_module_version": "1.5.0",
            "value": " 8192/? [00:06&lt;00:00, 1233.48it/s]",
            "_view_count": null,
            "_view_module_version": "1.5.0",
            "description_tooltip": null,
            "_model_module": "@jupyter-widgets/controls",
            "layout": "IPY_MODEL_8238a401c79749798c6546ac80a80b0e"
          }
        },
        "40add84ad252405aa560250c61e39014": {
          "model_module": "@jupyter-widgets/controls",
          "model_name": "ProgressStyleModel",
          "state": {
            "_view_name": "StyleView",
            "_model_name": "ProgressStyleModel",
            "description_width": "initial",
            "_view_module": "@jupyter-widgets/base",
            "_model_module_version": "1.5.0",
            "_view_count": null,
            "_view_module_version": "1.2.0",
            "bar_color": null,
            "_model_module": "@jupyter-widgets/controls"
          }
        },
        "6f67777b35264b519f59f1a58e453300": {
          "model_module": "@jupyter-widgets/base",
          "model_name": "LayoutModel",
          "state": {
            "_view_name": "LayoutView",
            "grid_template_rows": null,
            "right": null,
            "justify_content": null,
            "_view_module": "@jupyter-widgets/base",
            "overflow": null,
            "_model_module_version": "1.2.0",
            "_view_count": null,
            "flex_flow": null,
            "width": null,
            "min_width": null,
            "border": null,
            "align_items": null,
            "bottom": null,
            "_model_module": "@jupyter-widgets/base",
            "top": null,
            "grid_column": null,
            "overflow_y": null,
            "overflow_x": null,
            "grid_auto_flow": null,
            "grid_area": null,
            "grid_template_columns": null,
            "flex": null,
            "_model_name": "LayoutModel",
            "justify_items": null,
            "grid_row": null,
            "max_height": null,
            "align_content": null,
            "visibility": null,
            "align_self": null,
            "height": null,
            "min_height": null,
            "padding": null,
            "grid_auto_rows": null,
            "grid_gap": null,
            "max_width": null,
            "order": null,
            "_view_module_version": "1.2.0",
            "grid_template_areas": null,
            "object_position": null,
            "object_fit": null,
            "grid_auto_columns": null,
            "margin": null,
            "display": null,
            "left": null
          }
        },
        "f25f6758ff4f40bab681d582f7c48942": {
          "model_module": "@jupyter-widgets/controls",
          "model_name": "DescriptionStyleModel",
          "state": {
            "_view_name": "StyleView",
            "_model_name": "DescriptionStyleModel",
            "description_width": "",
            "_view_module": "@jupyter-widgets/base",
            "_model_module_version": "1.5.0",
            "_view_count": null,
            "_view_module_version": "1.2.0",
            "_model_module": "@jupyter-widgets/controls"
          }
        },
        "8238a401c79749798c6546ac80a80b0e": {
          "model_module": "@jupyter-widgets/base",
          "model_name": "LayoutModel",
          "state": {
            "_view_name": "LayoutView",
            "grid_template_rows": null,
            "right": null,
            "justify_content": null,
            "_view_module": "@jupyter-widgets/base",
            "overflow": null,
            "_model_module_version": "1.2.0",
            "_view_count": null,
            "flex_flow": null,
            "width": null,
            "min_width": null,
            "border": null,
            "align_items": null,
            "bottom": null,
            "_model_module": "@jupyter-widgets/base",
            "top": null,
            "grid_column": null,
            "overflow_y": null,
            "overflow_x": null,
            "grid_auto_flow": null,
            "grid_area": null,
            "grid_template_columns": null,
            "flex": null,
            "_model_name": "LayoutModel",
            "justify_items": null,
            "grid_row": null,
            "max_height": null,
            "align_content": null,
            "visibility": null,
            "align_self": null,
            "height": null,
            "min_height": null,
            "padding": null,
            "grid_auto_rows": null,
            "grid_gap": null,
            "max_width": null,
            "order": null,
            "_view_module_version": "1.2.0",
            "grid_template_areas": null,
            "object_position": null,
            "object_fit": null,
            "grid_auto_columns": null,
            "margin": null,
            "display": null,
            "left": null
          }
        }
      }
    }
  },
  "cells": [
    {
      "cell_type": "code",
      "metadata": {
        "id": "390vLd1cKNaL",
        "colab_type": "code",
        "colab": {}
      },
      "source": [
        "import os\n",
        "from collections import namedtuple\n",
        "\n",
        "import matplotlib.pyplot as plt\n",
        "import numpy as np\n",
        "import torch\n",
        "import torch.nn as nn\n",
        "import torchvision as tv\n",
        "import tqdm\n",
        "from scipy.optimize import Bounds, minimize\n",
        "from torch import optim\n",
        "from torch.autograd import Variable\n",
        "from torch.functional import F\n",
        "from torch.utils.data import DataLoader, Dataset, TensorDataset, random_split\n",
        "from torchvision import datasets, transforms"
      ],
      "execution_count": 0,
      "outputs": []
    },
    {
      "cell_type": "markdown",
      "metadata": {
        "id": "S1cr2BRwKNaO",
        "colab_type": "text"
      },
      "source": [
        "# Week 14:  Intriguing Properties of Neural Networks\n",
        "There are two types of adversarial models that we will create. First, we will reproduce some of the results of Szegedy via targeted misclassifications, and also test the cross-model susceptibility.  An optional second section explores the development of a different method for generating adversarial examples called the Fast Gradient Sign Method.\n",
        "\n",
        "### Part 1: Targeted Examples\n",
        "\n",
        "Now we will find inputs that will cause the network to mispredict in such a way that it outputs what we want it to."
      ]
    },
    {
      "cell_type": "code",
      "metadata": {
        "id": "Qr8bRa3XKNaP",
        "colab_type": "code",
        "colab": {}
      },
      "source": [
        "device = torch.device(\"cuda\" if torch.cuda.is_available() else \"cpu\")\n",
        "Config = namedtuple(\n",
        "    \"Config\",\n",
        "    (\n",
        "        \"batch_size\",\n",
        "        \"epochs\",\n",
        "        \"lr\",\n",
        "        \"lr_gamma\",\n",
        "        \"input_size\",\n",
        "        \"output_size\",\n",
        "        \"w_decay\",\n",
        "        \"r_weight\",\n",
        "        \"device\",\n",
        "    )\n",
        ")\n",
        "\n",
        "config = Config(\n",
        "    batch_size=64,\n",
        "    epochs=25,\n",
        "    # Learning rate\n",
        "    lr=1e-4,\n",
        "    # Learning rate decay factor\n",
        "    lr_gamma=0.88,\n",
        "    input_size=28*28,\n",
        "    output_size=10,\n",
        "    # L2 regularization strength\n",
        "    w_decay=1e-4,\n",
        "    # c from section 4.1 of the paper\n",
        "    r_weight=0.15,\n",
        "    device=device,\n",
        ")"
      ],
      "execution_count": 0,
      "outputs": []
    },
    {
      "cell_type": "markdown",
      "metadata": {
        "id": "-BN6Jc0bKNaS",
        "colab_type": "text"
      },
      "source": [
        "### Data\n",
        "\n",
        "We'll use the full MNIST datasets for training and testing."
      ]
    },
    {
      "cell_type": "code",
      "metadata": {
        "id": "aefN9SMZKNaT",
        "colab_type": "code",
        "outputId": "5b0004d7-2040-4edd-ce0f-2382dc4b5890",
        "colab": {
          "base_uri": "https://localhost:8080/",
          "height": 352,
          "referenced_widgets": [
            "4bd664c6474c48d9ab30f97e976c7f8a",
            "2639f416befa453896f213fcb57ef859",
            "d886e997192d4b58ac168d6ebda00166",
            "d55e87faaf1f493ca6eef267985d763c",
            "1da9f979d2b94ad6868b28a53831df83",
            "e6824aa0701240b1a9fa163b40342f00",
            "7974262e11ca430b9dd8ba704abcac1a",
            "d715272dfc5e4ecb9198fee692e6ff32",
            "35dd20c07f6243b4b0649f854c87b9c0",
            "e91138ae826346f4996964b7012b2756",
            "cb8d16f35d30428ab2a7679d534b78ec",
            "744cad24eba3434e9a30b2f7cafd20f9",
            "132f4710cf6848988dfbe11b4979e486",
            "4d193173cd2f4310b333c9bf87fe0c25",
            "6abd415380aa44b2b8dbf52442819bbf",
            "18cade4aaaf44a598568cb312682b828",
            "1c2abbcdb94e49d390b8a136014c2c9e",
            "4cc0f910eba24eb98804a3b715319b33",
            "2aca8cfb1fee4035b3fd4406349aa8a4",
            "d753360b6296449b9ef26e552bf9840c",
            "0bf4cf6348ad400583c62ad82dbcedff",
            "d300af4165b4494e978e4d0f506daa22",
            "cd2e1593d7144ff9a6920e6862021776",
            "c632e4cf62d04732b80c543df910793f",
            "6e37ec9443f7406f9fcc18a3a5e01466",
            "0e6e86c2b233430fa57adf412d057165",
            "74b4c3177f01400a99b9bfca7a995970",
            "3132be86fcaf45f8b861ce56cdbf1527",
            "40add84ad252405aa560250c61e39014",
            "6f67777b35264b519f59f1a58e453300",
            "f25f6758ff4f40bab681d582f7c48942",
            "8238a401c79749798c6546ac80a80b0e"
          ]
        }
      },
      "source": [
        "os.makedirs(\"./data\", exist_ok=True)\n",
        "# MNIST Datasets\n",
        "train_ds = tv.datasets.MNIST(\n",
        "    \"./data\",\n",
        "    transform=tv.transforms.ToTensor(),\n",
        "    train=True,\n",
        "    download=True\n",
        ")\n",
        "test_ds = tv.datasets.MNIST(\n",
        "    \"./data\",\n",
        "    transform=tv.transforms.ToTensor(),\n",
        "    train=False,\n",
        ")\n",
        "# MNIST Data Loaders\n",
        "train_dl = torch.utils.data.DataLoader(\n",
        "    train_ds,\n",
        "    batch_size=config.batch_size,\n",
        "    drop_last=True,\n",
        "    shuffle=True,\n",
        "    num_workers=4,\n",
        ")\n",
        "test_dl = torch.utils.data.DataLoader(\n",
        "    test_ds,\n",
        "    batch_size=config.batch_size,\n",
        "    shuffle=True\n",
        ")"
      ],
      "execution_count": 0,
      "outputs": [
        {
          "output_type": "stream",
          "text": [
            "Downloading http://yann.lecun.com/exdb/mnist/train-images-idx3-ubyte.gz to ./data/MNIST/raw/train-images-idx3-ubyte.gz\n"
          ],
          "name": "stdout"
        },
        {
          "output_type": "display_data",
          "data": {
            "application/vnd.jupyter.widget-view+json": {
              "model_id": "4bd664c6474c48d9ab30f97e976c7f8a",
              "version_minor": 0,
              "version_major": 2
            },
            "text/plain": [
              "HBox(children=(IntProgress(value=1, bar_style='info', max=1), HTML(value='')))"
            ]
          },
          "metadata": {
            "tags": []
          }
        },
        {
          "output_type": "stream",
          "text": [
            "Extracting ./data/MNIST/raw/train-images-idx3-ubyte.gz to ./data/MNIST/raw\n",
            "Downloading http://yann.lecun.com/exdb/mnist/train-labels-idx1-ubyte.gz to ./data/MNIST/raw/train-labels-idx1-ubyte.gz\n"
          ],
          "name": "stdout"
        },
        {
          "output_type": "display_data",
          "data": {
            "application/vnd.jupyter.widget-view+json": {
              "model_id": "35dd20c07f6243b4b0649f854c87b9c0",
              "version_minor": 0,
              "version_major": 2
            },
            "text/plain": [
              "HBox(children=(IntProgress(value=1, bar_style='info', max=1), HTML(value='')))"
            ]
          },
          "metadata": {
            "tags": []
          }
        },
        {
          "output_type": "stream",
          "text": [
            "Extracting ./data/MNIST/raw/train-labels-idx1-ubyte.gz to ./data/MNIST/raw\n",
            "Downloading http://yann.lecun.com/exdb/mnist/t10k-images-idx3-ubyte.gz to ./data/MNIST/raw/t10k-images-idx3-ubyte.gz\n"
          ],
          "name": "stdout"
        },
        {
          "output_type": "display_data",
          "data": {
            "application/vnd.jupyter.widget-view+json": {
              "model_id": "1c2abbcdb94e49d390b8a136014c2c9e",
              "version_minor": 0,
              "version_major": 2
            },
            "text/plain": [
              "HBox(children=(IntProgress(value=1, bar_style='info', max=1), HTML(value='')))"
            ]
          },
          "metadata": {
            "tags": []
          }
        },
        {
          "output_type": "stream",
          "text": [
            "Extracting ./data/MNIST/raw/t10k-images-idx3-ubyte.gz to ./data/MNIST/raw\n",
            "Downloading http://yann.lecun.com/exdb/mnist/t10k-labels-idx1-ubyte.gz to ./data/MNIST/raw/t10k-labels-idx1-ubyte.gz\n"
          ],
          "name": "stdout"
        },
        {
          "output_type": "display_data",
          "data": {
            "application/vnd.jupyter.widget-view+json": {
              "model_id": "6e37ec9443f7406f9fcc18a3a5e01466",
              "version_minor": 0,
              "version_major": 2
            },
            "text/plain": [
              "HBox(children=(IntProgress(value=1, bar_style='info', max=1), HTML(value='')))"
            ]
          },
          "metadata": {
            "tags": []
          }
        },
        {
          "output_type": "stream",
          "text": [
            "Extracting ./data/MNIST/raw/t10k-labels-idx1-ubyte.gz to ./data/MNIST/raw\n",
            "Processing...\n",
            "Done!\n"
          ],
          "name": "stdout"
        },
        {
          "output_type": "stream",
          "text": [
            "/pytorch/torch/csrc/utils/tensor_numpy.cpp:141: UserWarning: The given NumPy array is not writeable, and PyTorch does not support non-writeable tensors. This means you can write to the underlying (supposedly non-writeable) NumPy array using the tensor. You may want to copy the array to protect its data or make it writeable before converting it to a tensor. This type of warning will be suppressed for the rest of this program.\n"
          ],
          "name": "stderr"
        }
      ]
    },
    {
      "cell_type": "markdown",
      "metadata": {
        "id": "T0j-38_PKNaV",
        "colab_type": "text"
      },
      "source": [
        "### Helpers\n",
        "\n",
        "These are some helper functions that you don't need to worry about"
      ]
    },
    {
      "cell_type": "code",
      "metadata": {
        "id": "yI-VU0bBKNaW",
        "colab_type": "code",
        "outputId": "240451e7-2b07-492b-a151-c0e34d7d378f",
        "colab": {
          "base_uri": "https://localhost:8080/",
          "height": 51
        }
      },
      "source": [
        "def train(model, opt, loss_func, loader, config, epoch):\n",
        "    it = tqdm.tqdm(loader, ncols=80, desc=f\"train: {epoch + 1}/{config.epochs}\")\n",
        "    for imgs, targets in it:\n",
        "        model.train()\n",
        "        opt.zero_grad()\n",
        "        imgs = imgs.to(config.device).double()\n",
        "        targets = targets.to(config.device)\n",
        "        out = model(imgs)\n",
        "        loss = loss_func(out, targets)\n",
        "        loss.backward()\n",
        "        opt.step()\n",
        "        \n",
        "        \n",
        "def test(model, loader, config):\n",
        "    correct = 0\n",
        "    for imgs, targets in tqdm.tqdm(loader, ncols=80, desc=\"Test\"):\n",
        "        model.eval()\n",
        "        imgs = imgs.to(config.device).double()\n",
        "        targets = targets.to(config.device)\n",
        "        with torch.no_grad():\n",
        "            out = model(imgs)\n",
        "            pred = logits_to_label(out)\n",
        "            correct += (pred == targets).sum()\n",
        "    N = len(loader.dataset)\n",
        "    acc = float(correct) / N\n",
        "    print(f\"Test acc: {acc:.02%}\")\n",
        "\n",
        "    \n",
        "def fetch_trained_model(model_class, train_loader, test_loader, load_from_file, path, config):\n",
        "    \"\"\"Either fetch a stored model from disk or train one from scratch\"\"\"\n",
        "    model = model_class(config).double().to(config.device)\n",
        "    if os.path.isfile(path) and load_from_file:\n",
        "        model.load_state_dict(torch.load(path))\n",
        "        test(model, test_loader, config)\n",
        "    else:\n",
        "        opt = torch.optim.Adam(model.parameters(), config.lr, weight_decay=config.w_decay)\n",
        "        # Learning rate adjuster\n",
        "        sched = torch.optim.lr_scheduler.StepLR(opt, 1, config.lr_gamma)\n",
        "        criterion = nn.CrossEntropyLoss()\n",
        "\n",
        "        for ep in range(config.epochs):\n",
        "            train(model, opt, criterion, train_loader, config, ep)\n",
        "            test(model, test_loader, config)\n",
        "            sched.step()\n",
        "        torch.save(model.state_dict(), path)\n",
        "    model.eval()\n",
        "    print(model)\n",
        "    return model"
      ],
      "execution_count": 0,
      "outputs": [
        {
          "output_type": "stream",
          "text": [
            "\n",
            "\n"
          ],
          "name": "stdout"
        }
      ]
    },
    {
      "cell_type": "markdown",
      "metadata": {
        "id": "Mh5d5NDKKNaZ",
        "colab_type": "text"
      },
      "source": [
        "### Model\n",
        "We'll use one of the fully connected models from the paper."
      ]
    },
    {
      "cell_type": "code",
      "metadata": {
        "id": "LMXMsaxIKNaZ",
        "colab_type": "code",
        "colab": {}
      },
      "source": [
        "def logits_to_label(logits):\n",
        "    \"\"\"\n",
        "    Converts the logits or log-odds output of the networks\n",
        "    to a class label.\n",
        "    \"\"\"\n",
        "    return torch.softmax(logits, 1).argmax(1)\n",
        "\n",
        "\n",
        "class FCNet100(nn.Module):\n",
        "    \"\"\"The FC100-100-10 network from the paper\"\"\"\n",
        "\n",
        "    def __init__(self, config):\n",
        "        super(FCNet100, self).__init__()\n",
        "        self.config = config\n",
        "        self.model = nn.Sequential(\n",
        "            nn.Linear(config.input_size, 100),\n",
        "            nn.LeakyReLU(0.1, inplace=True),\n",
        "            \n",
        "            nn.Linear(100, 100),\n",
        "            nn.LeakyReLU(0.1, inplace=True),\n",
        "            \n",
        "            nn.Linear(100, config.output_size),\n",
        "        )\n",
        "        # Note that softmax is left out of the model on purpose.\n",
        "    \n",
        "    def forward(self, x):\n",
        "        if isinstance(x, np.ndarray):\n",
        "            x = torch.tensor(x).to(self.config.device)\n",
        "        x = x.view(x.size(0), self.config.input_size)\n",
        "        # Logits\n",
        "        return self.model(x)"
      ],
      "execution_count": 0,
      "outputs": []
    },
    {
      "cell_type": "markdown",
      "metadata": {
        "id": "xJ-Lg8w7KNac",
        "colab_type": "text"
      },
      "source": [
        "For convenience, a pre-trained set of weights are included in this repository at './data/model_1.pt'.\n",
        "The code below will load them for you. Pass `False` to the `load` argument to train a fresh version\n",
        "of the model. Note that `double()` has been called on the model so that all of the weights are 64-bit floats\n",
        "and the model is expecting 64-bit float inputs. The model will also produce 64-bit floats as outputs.\n",
        "This last part is why `double()` is called and is important later."
      ]
    },
    {
      "cell_type": "code",
      "metadata": {
        "scrolled": true,
        "id": "cYwFDESdKNac",
        "colab_type": "code",
        "outputId": "5834cb01-3fbc-4738-c630-06987a9a4d87",
        "colab": {
          "base_uri": "https://localhost:8080/",
          "height": 1000
        }
      },
      "source": [
        "# Load our first model from disk or train a fresh one\n",
        "model = fetch_trained_model(\n",
        "    FCNet100,\n",
        "    train_dl,\n",
        "    test_dl,\n",
        "    True,\n",
        "    \"./data/model_1.pt\",\n",
        "    config\n",
        ")"
      ],
      "execution_count": 0,
      "outputs": [
        {
          "output_type": "stream",
          "text": [
            "train: 1/25: 100%|███████████████████████████| 937/937 [00:06<00:00, 138.82it/s]\n",
            "Test: 100%|██████████████████████████████████| 157/157 [00:00<00:00, 208.95it/s]\n",
            "train: 2/25:   0%|                                      | 0/937 [00:00<?, ?it/s]"
          ],
          "name": "stderr"
        },
        {
          "output_type": "stream",
          "text": [
            "Test acc: 89.96%\n"
          ],
          "name": "stdout"
        },
        {
          "output_type": "stream",
          "text": [
            "train: 2/25: 100%|███████████████████████████| 937/937 [00:06<00:00, 141.07it/s]\n",
            "Test: 100%|██████████████████████████████████| 157/157 [00:00<00:00, 231.19it/s]\n",
            "train: 3/25:   0%|                                      | 0/937 [00:00<?, ?it/s]"
          ],
          "name": "stderr"
        },
        {
          "output_type": "stream",
          "text": [
            "Test acc: 91.45%\n"
          ],
          "name": "stdout"
        },
        {
          "output_type": "stream",
          "text": [
            "train: 3/25: 100%|███████████████████████████| 937/937 [00:06<00:00, 145.17it/s]\n",
            "Test: 100%|██████████████████████████████████| 157/157 [00:00<00:00, 216.64it/s]\n",
            "train: 4/25:   0%|                                      | 0/937 [00:00<?, ?it/s]"
          ],
          "name": "stderr"
        },
        {
          "output_type": "stream",
          "text": [
            "Test acc: 91.96%\n"
          ],
          "name": "stdout"
        },
        {
          "output_type": "stream",
          "text": [
            "train: 4/25: 100%|███████████████████████████| 937/937 [00:06<00:00, 140.64it/s]\n",
            "Test: 100%|██████████████████████████████████| 157/157 [00:00<00:00, 208.14it/s]\n",
            "train: 5/25:   0%|                                      | 0/937 [00:00<?, ?it/s]"
          ],
          "name": "stderr"
        },
        {
          "output_type": "stream",
          "text": [
            "Test acc: 92.41%\n"
          ],
          "name": "stdout"
        },
        {
          "output_type": "stream",
          "text": [
            "train: 5/25: 100%|███████████████████████████| 937/937 [00:06<00:00, 140.20it/s]\n",
            "Test: 100%|██████████████████████████████████| 157/157 [00:00<00:00, 229.02it/s]\n",
            "train: 6/25:   0%|                                      | 0/937 [00:00<?, ?it/s]"
          ],
          "name": "stderr"
        },
        {
          "output_type": "stream",
          "text": [
            "Test acc: 92.80%\n"
          ],
          "name": "stdout"
        },
        {
          "output_type": "stream",
          "text": [
            "train: 6/25: 100%|███████████████████████████| 937/937 [00:06<00:00, 142.17it/s]\n",
            "Test: 100%|██████████████████████████████████| 157/157 [00:00<00:00, 234.07it/s]\n",
            "train: 7/25:   0%|                                      | 0/937 [00:00<?, ?it/s]"
          ],
          "name": "stderr"
        },
        {
          "output_type": "stream",
          "text": [
            "Test acc: 93.06%\n"
          ],
          "name": "stdout"
        },
        {
          "output_type": "stream",
          "text": [
            "train: 7/25: 100%|███████████████████████████| 937/937 [00:06<00:00, 145.09it/s]\n",
            "Test: 100%|██████████████████████████████████| 157/157 [00:00<00:00, 226.97it/s]\n",
            "train: 8/25:   0%|                                      | 0/937 [00:00<?, ?it/s]"
          ],
          "name": "stderr"
        },
        {
          "output_type": "stream",
          "text": [
            "Test acc: 93.25%\n"
          ],
          "name": "stdout"
        },
        {
          "output_type": "stream",
          "text": [
            "train: 8/25: 100%|███████████████████████████| 937/937 [00:06<00:00, 138.49it/s]\n",
            "Test: 100%|██████████████████████████████████| 157/157 [00:00<00:00, 233.27it/s]\n",
            "train: 9/25:   0%|                                      | 0/937 [00:00<?, ?it/s]"
          ],
          "name": "stderr"
        },
        {
          "output_type": "stream",
          "text": [
            "Test acc: 93.46%\n"
          ],
          "name": "stdout"
        },
        {
          "output_type": "stream",
          "text": [
            "train: 9/25: 100%|███████████████████████████| 937/937 [00:06<00:00, 141.60it/s]\n",
            "Test: 100%|██████████████████████████████████| 157/157 [00:00<00:00, 229.04it/s]\n",
            "train: 10/25:   0%|                                     | 0/937 [00:00<?, ?it/s]"
          ],
          "name": "stderr"
        },
        {
          "output_type": "stream",
          "text": [
            "Test acc: 93.52%\n"
          ],
          "name": "stdout"
        },
        {
          "output_type": "stream",
          "text": [
            "train: 10/25: 100%|██████████████████████████| 937/937 [00:06<00:00, 136.87it/s]\n",
            "Test: 100%|██████████████████████████████████| 157/157 [00:00<00:00, 215.44it/s]\n",
            "train: 11/25:   0%|                                     | 0/937 [00:00<?, ?it/s]"
          ],
          "name": "stderr"
        },
        {
          "output_type": "stream",
          "text": [
            "Test acc: 93.67%\n"
          ],
          "name": "stdout"
        },
        {
          "output_type": "stream",
          "text": [
            "train: 11/25: 100%|██████████████████████████| 937/937 [00:06<00:00, 139.43it/s]\n",
            "Test: 100%|██████████████████████████████████| 157/157 [00:00<00:00, 221.04it/s]\n",
            "train: 12/25:   0%|                                     | 0/937 [00:00<?, ?it/s]"
          ],
          "name": "stderr"
        },
        {
          "output_type": "stream",
          "text": [
            "Test acc: 93.85%\n"
          ],
          "name": "stdout"
        },
        {
          "output_type": "stream",
          "text": [
            "train: 12/25: 100%|██████████████████████████| 937/937 [00:06<00:00, 143.46it/s]\n",
            "Test: 100%|██████████████████████████████████| 157/157 [00:00<00:00, 230.74it/s]\n",
            "train: 13/25:   0%|                                     | 0/937 [00:00<?, ?it/s]"
          ],
          "name": "stderr"
        },
        {
          "output_type": "stream",
          "text": [
            "Test acc: 93.91%\n"
          ],
          "name": "stdout"
        },
        {
          "output_type": "stream",
          "text": [
            "train: 13/25: 100%|██████████████████████████| 937/937 [00:06<00:00, 144.66it/s]\n",
            "Test: 100%|██████████████████████████████████| 157/157 [00:00<00:00, 227.88it/s]\n",
            "train: 14/25:   0%|                                     | 0/937 [00:00<?, ?it/s]"
          ],
          "name": "stderr"
        },
        {
          "output_type": "stream",
          "text": [
            "Test acc: 93.93%\n"
          ],
          "name": "stdout"
        },
        {
          "output_type": "stream",
          "text": [
            "train: 14/25: 100%|██████████████████████████| 937/937 [00:06<00:00, 141.92it/s]\n",
            "Test: 100%|██████████████████████████████████| 157/157 [00:00<00:00, 226.00it/s]\n",
            "train: 15/25:   0%|                                     | 0/937 [00:00<?, ?it/s]"
          ],
          "name": "stderr"
        },
        {
          "output_type": "stream",
          "text": [
            "Test acc: 94.00%\n"
          ],
          "name": "stdout"
        },
        {
          "output_type": "stream",
          "text": [
            "train: 15/25: 100%|██████████████████████████| 937/937 [00:06<00:00, 144.55it/s]\n",
            "Test: 100%|██████████████████████████████████| 157/157 [00:00<00:00, 228.89it/s]\n",
            "train: 16/25:   0%|                                     | 0/937 [00:00<?, ?it/s]"
          ],
          "name": "stderr"
        },
        {
          "output_type": "stream",
          "text": [
            "Test acc: 94.08%\n"
          ],
          "name": "stdout"
        },
        {
          "output_type": "stream",
          "text": [
            "train: 16/25: 100%|██████████████████████████| 937/937 [00:06<00:00, 141.78it/s]\n",
            "Test: 100%|██████████████████████████████████| 157/157 [00:00<00:00, 226.14it/s]\n",
            "train: 17/25:   0%|                                     | 0/937 [00:00<?, ?it/s]"
          ],
          "name": "stderr"
        },
        {
          "output_type": "stream",
          "text": [
            "Test acc: 94.07%\n"
          ],
          "name": "stdout"
        },
        {
          "output_type": "stream",
          "text": [
            "train: 17/25: 100%|██████████████████████████| 937/937 [00:06<00:00, 134.18it/s]\n",
            "Test: 100%|██████████████████████████████████| 157/157 [00:00<00:00, 221.12it/s]\n",
            "train: 18/25:   0%|                                     | 0/937 [00:00<?, ?it/s]"
          ],
          "name": "stderr"
        },
        {
          "output_type": "stream",
          "text": [
            "Test acc: 94.13%\n"
          ],
          "name": "stdout"
        },
        {
          "output_type": "stream",
          "text": [
            "train: 18/25: 100%|██████████████████████████| 937/937 [00:06<00:00, 138.72it/s]\n",
            "Test: 100%|██████████████████████████████████| 157/157 [00:00<00:00, 227.13it/s]\n",
            "train: 19/25:   0%|                                     | 0/937 [00:00<?, ?it/s]"
          ],
          "name": "stderr"
        },
        {
          "output_type": "stream",
          "text": [
            "Test acc: 94.24%\n"
          ],
          "name": "stdout"
        },
        {
          "output_type": "stream",
          "text": [
            "train: 19/25: 100%|██████████████████████████| 937/937 [00:06<00:00, 137.47it/s]\n",
            "Test: 100%|██████████████████████████████████| 157/157 [00:00<00:00, 216.84it/s]\n",
            "train: 20/25:   0%|                                     | 0/937 [00:00<?, ?it/s]"
          ],
          "name": "stderr"
        },
        {
          "output_type": "stream",
          "text": [
            "Test acc: 94.23%\n"
          ],
          "name": "stdout"
        },
        {
          "output_type": "stream",
          "text": [
            "train: 20/25: 100%|██████████████████████████| 937/937 [00:06<00:00, 140.88it/s]\n",
            "Test: 100%|██████████████████████████████████| 157/157 [00:00<00:00, 226.17it/s]\n",
            "train: 21/25:   0%|                                     | 0/937 [00:00<?, ?it/s]"
          ],
          "name": "stderr"
        },
        {
          "output_type": "stream",
          "text": [
            "Test acc: 94.33%\n"
          ],
          "name": "stdout"
        },
        {
          "output_type": "stream",
          "text": [
            "train: 21/25: 100%|██████████████████████████| 937/937 [00:06<00:00, 142.64it/s]\n",
            "Test: 100%|██████████████████████████████████| 157/157 [00:00<00:00, 227.57it/s]\n",
            "train: 22/25:   0%|                                     | 0/937 [00:00<?, ?it/s]"
          ],
          "name": "stderr"
        },
        {
          "output_type": "stream",
          "text": [
            "Test acc: 94.30%\n"
          ],
          "name": "stdout"
        },
        {
          "output_type": "stream",
          "text": [
            "train: 22/25: 100%|██████████████████████████| 937/937 [00:06<00:00, 140.90it/s]\n",
            "Test: 100%|██████████████████████████████████| 157/157 [00:00<00:00, 232.14it/s]\n",
            "train: 23/25:   0%|                                     | 0/937 [00:00<?, ?it/s]"
          ],
          "name": "stderr"
        },
        {
          "output_type": "stream",
          "text": [
            "Test acc: 94.33%\n"
          ],
          "name": "stdout"
        },
        {
          "output_type": "stream",
          "text": [
            "train: 23/25: 100%|██████████████████████████| 937/937 [00:06<00:00, 142.27it/s]\n",
            "Test: 100%|██████████████████████████████████| 157/157 [00:00<00:00, 227.85it/s]\n",
            "train: 24/25:   0%|                                     | 0/937 [00:00<?, ?it/s]"
          ],
          "name": "stderr"
        },
        {
          "output_type": "stream",
          "text": [
            "Test acc: 94.44%\n"
          ],
          "name": "stdout"
        },
        {
          "output_type": "stream",
          "text": [
            "train: 24/25: 100%|██████████████████████████| 937/937 [00:06<00:00, 142.77it/s]\n",
            "Test: 100%|██████████████████████████████████| 157/157 [00:00<00:00, 206.17it/s]\n",
            "train: 25/25:   0%|                                     | 0/937 [00:00<?, ?it/s]"
          ],
          "name": "stderr"
        },
        {
          "output_type": "stream",
          "text": [
            "Test acc: 94.38%\n"
          ],
          "name": "stdout"
        },
        {
          "output_type": "stream",
          "text": [
            "train: 25/25: 100%|██████████████████████████| 937/937 [00:06<00:00, 143.03it/s]\n",
            "Test: 100%|██████████████████████████████████| 157/157 [00:00<00:00, 226.46it/s]"
          ],
          "name": "stderr"
        },
        {
          "output_type": "stream",
          "text": [
            "Test acc: 94.38%\n",
            "FCNet100(\n",
            "  (model): Sequential(\n",
            "    (0): Linear(in_features=784, out_features=100, bias=True)\n",
            "    (1): LeakyReLU(negative_slope=0.1, inplace=True)\n",
            "    (2): Linear(in_features=100, out_features=100, bias=True)\n",
            "    (3): LeakyReLU(negative_slope=0.1, inplace=True)\n",
            "    (4): Linear(in_features=100, out_features=10, bias=True)\n",
            "  )\n",
            ")\n"
          ],
          "name": "stdout"
        },
        {
          "output_type": "stream",
          "text": [
            "\n"
          ],
          "name": "stderr"
        }
      ]
    },
    {
      "cell_type": "markdown",
      "metadata": {
        "id": "aY2_MpndKNah",
        "colab_type": "text"
      },
      "source": [
        "## Finding Adversarial Examples\n",
        "\n",
        "The two functions below are used to find targeted examples. Together these make up the algorithm\n",
        "descriibed in Section 4.1 of the paper:\n",
        "\n",
        "$$\\textrm{minimize} \\quad c \\left\\lvert r \\right\\rvert + \\textrm{loss}_f(x + r, l)$$\n",
        "with $$x + r \\in [0, 1]^m$$"
      ]
    },
    {
      "cell_type": "code",
      "metadata": {
        "id": "QPCasJPlKNai",
        "colab_type": "code",
        "colab": {}
      },
      "source": [
        "def adv_penalty_func(x_plus_r, *args):\n",
        "    \"\"\"This function is simply the penalty from Section 4.1\"\"\"\n",
        "    x, net, c, target, device = args\n",
        "    #\n",
        "    # TODO: fill in the missing part of the penalty\n",
        "    # c|r| penalty portion\n",
        "    size_penalty = c * np.sum(np.abs((x_plus_r - x)))\n",
        "    # x + r as a tensor\n",
        "    x_plus_r_tensor = torch.tensor(x_plus_r.reshape(1, 28, 28)).to(device)\n",
        "    # loss_f(x + r, l) penalty\n",
        "    logits = net(x_plus_r_tensor)\n",
        "    #\n",
        "    # TODO: What loss function should go here?\n",
        "    class_penalty = nn.functional.nll_loss(logits, target).item()\n",
        "    #\n",
        "    # TODO: what should be returned\n",
        "    return class_penalty + size_penalty\n",
        "\n",
        "\n",
        "def find_adversarial_example(\n",
        "    net, x, target, config, max_iterations=45_000, max_penalty_function_calls=45_000\n",
        "):\n",
        "    \"\"\"This is the optimization problem described in Section 4.1\"\"\"\n",
        "    # The c weight for the L1 norm of r\n",
        "    c = config.r_weight\n",
        "    # Box constraint: [0, 1]^m\n",
        "    box_constraint = Bounds(np.zeros_like(x.ravel()), np.ones_like(x.ravel()))\n",
        "    # Target label as tensor\n",
        "    target = torch.tensor([target]).to(config.device, dtype=torch.int64)\n",
        "    # Args that will be passed to the penalty function in addition to the (x + r) array.\n",
        "    args = (x.flatten(), net, c, target, device)\n",
        "    #\n",
        "    # TODO: What should the initial guess for x+r be?\n",
        "    #\n",
        "    x_plus_r_initial = x\n",
        "    \n",
        "    # minimize will be calling the penalty function, and in turn the model, a LOT.\n",
        "    # We use torch.no_grad() to make sure that we don't have the overhead of\n",
        "    # torch's autograd during those calls.\n",
        "    with torch.no_grad():\n",
        "        # We'll treat scipy's minimize as a black box and simply use it as a means to an\n",
        "        # end. Below, we have used the recommended settings for \"L-BFGS-B\" from the\n",
        "        # scipy docs.\n",
        "        res = minimize(\n",
        "            # Our penalty function from above\n",
        "            adv_penalty_func,\n",
        "            # Flatten it since minimize only works on a 1D array\n",
        "            x_plus_r_initial.flatten(),\n",
        "            args,\n",
        "            method='L-BFGS-B',\n",
        "            jac=None,\n",
        "            bounds=box_constraint,\n",
        "            tol=None,\n",
        "            callback=None,\n",
        "            options={\n",
        "                'disp': None,\n",
        "                'maxcor': 10,\n",
        "                'ftol': 2.220446049250313e-09,\n",
        "                'gtol': 1e-05,\n",
        "                # This is the step size used by the numerical optimizer\n",
        "                'eps': 1e-9,\n",
        "                # The maximum number of times the penalty func can be called by minimize\n",
        "                'maxfun': max_penalty_function_calls,\n",
        "                # The maximum number of steps taken by minimize\n",
        "                'maxiter': max_iterations,\n",
        "                'iprint': -1,\n",
        "                'maxls': 15,\n",
        "            }\n",
        "        )\n",
        "    # Reshape back into an image\n",
        "    xr = torch.tensor(res.x.reshape(x.shape))\n",
        "    return xr"
      ],
      "execution_count": 0,
      "outputs": []
    },
    {
      "cell_type": "markdown",
      "metadata": {
        "id": "vJcSPGC4KNak",
        "colab_type": "text"
      },
      "source": [
        "**Question: Now that you have seen the functions used to find the adversarial examples,\n",
        "why is it important for the model to output 64-bit floats?**\n",
        "\n",
        "**Question: Why is x (the original image) the ideal starting point for the optimizer?**"
      ]
    },
    {
      "cell_type": "markdown",
      "metadata": {
        "id": "yI2sMTRrKNal",
        "colab_type": "text"
      },
      "source": [
        "Because we want to find an adversarial example as close to the orginal image as possible "
      ]
    },
    {
      "cell_type": "markdown",
      "metadata": {
        "id": "fOJLd_CnKNal",
        "colab_type": "text"
      },
      "source": [
        "### Starting Images\n",
        "Now we will select some images from the test dataset, which the model hasn't seen, to turn into adversarial\n",
        "examples."
      ]
    },
    {
      "cell_type": "code",
      "metadata": {
        "id": "ylamGD6-KNam",
        "colab_type": "code",
        "outputId": "65d1ad7d-2f98-4e5b-c5eb-30392080d9ff",
        "colab": {
          "base_uri": "https://localhost:8080/",
          "height": 567
        }
      },
      "source": [
        "# Select N images that the model correctly classifies already\n",
        "N = 16\n",
        "adv_target = 8\n",
        "x_imgs = []\n",
        "x_labels = []\n",
        "for x, label in test_ds:\n",
        "    if label == adv_target:\n",
        "        continue\n",
        "    x = x.to(config.device).double()\n",
        "    # Make sure that the model correctly classifies this x\n",
        "    if (logits_to_label(model(x)) == label).item():\n",
        "        x_imgs.append(x.cpu())\n",
        "        x_labels.append(label)\n",
        "    if len(x_imgs) >= N:\n",
        "        break\n",
        "\n",
        "x_labels = np.array(x_labels).reshape(4, 4)\n",
        "grid = tv.utils.make_grid(x_imgs, nrow=4, pad_value=1)\n",
        "plt.figure(figsize=(8, 8))\n",
        "plt.title(\"Original Inputs\")\n",
        "plt.imshow(np.transpose(grid, (1, 2, 0)))\n",
        "print(x_labels)"
      ],
      "execution_count": 0,
      "outputs": [
        {
          "output_type": "stream",
          "text": [
            "[[7 2 1 0]\n",
            " [4 1 4 9]\n",
            " [9 0 6 9]\n",
            " [0 1 5 9]]\n"
          ],
          "name": "stdout"
        },
        {
          "output_type": "display_data",
          "data": {
            "image/png": "[encoded data removed]",
            "text/plain": [
              "<Figure size 576x576 with 1 Axes>"
            ]
          },
          "metadata": {
            "tags": [],
            "needs_background": "light"
          }
        }
      ]
    },
    {
      "cell_type": "markdown",
      "metadata": {
        "id": "B-VwpM_aKNap",
        "colab_type": "text"
      },
      "source": [
        "## Creating Adversaries\n",
        "This code will call the functions above to create adverserial examples. Unfortunately, it\n",
        "runs pretty slowly so it can take some time to find them. You can try adjusting\n",
        "the `max_iterations` and `max_penalty_function_calls` parameters of\n",
        "`find_adversarial_example()` to speed things up. Note that if you lower them too far you\n",
        "will produce poor examples that don't fool the network or that have large distortions. You can\n",
        "also adjust c to weight the size of r more or less."
      ]
    },
    {
      "cell_type": "code",
      "metadata": {
        "id": "rovZmfGoKNap",
        "colab_type": "code",
        "outputId": "f107ca68-431f-4d73-af5e-0c7260a9d0c1",
        "colab": {
          "base_uri": "https://localhost:8080/",
          "height": 34
        }
      },
      "source": [
        "xr_imgs = []\n",
        "xr_labels = []\n",
        "for x in tqdm.tqdm(x_imgs, ncols=80):\n",
        "    xr = find_adversarial_example(model, x.numpy(), adv_target, config)\n",
        "    xr_imgs.append(xr)\n",
        "    new_label = logits_to_label(model(xr.to(config.device))).item()\n",
        "    xr_labels.append(new_label)\n",
        "xr_labels = np.array(xr_labels).reshape(4, 4)"
      ],
      "execution_count": 0,
      "outputs": [
        {
          "output_type": "stream",
          "text": [
            "100%|███████████████████████████████████████████| 16/16 [01:41<00:00,  6.36s/it]\n"
          ],
          "name": "stderr"
        }
      ]
    },
    {
      "cell_type": "markdown",
      "metadata": {
        "id": "VCSsIuApKNas",
        "colab_type": "text"
      },
      "source": [
        "## Adversarial Results\n",
        "\n",
        "If everything is working properly, all of the new images should be classified as the target class."
      ]
    },
    {
      "cell_type": "code",
      "metadata": {
        "id": "7VMBT07QKNat",
        "colab_type": "code",
        "outputId": "62a1d9cc-81cb-4b4b-b5f5-7830f42e3ad6",
        "colab": {
          "base_uri": "https://localhost:8080/",
          "height": 1000
        }
      },
      "source": [
        "grid = tv.utils.make_grid(xr_imgs, nrow=4, pad_value=1)\n",
        "plt.figure(figsize=(8, 8))\n",
        "plt.title(\"Adversarial Examples\")\n",
        "plt.imshow(np.transpose(grid, (1, 2, 0)))\n",
        "print(f\"New Labels:\\n{xr_labels}\")\n",
        "\n",
        "# Calculate r = (x + r) - x and display them\n",
        "r_imgs = [xr - x for xr, x in zip(xr_imgs, x_imgs)]\n",
        "grid = tv.utils.make_grid(r_imgs, nrow=4, pad_value=1)\n",
        "plt.figure(figsize=(8, 8))\n",
        "plt.title(\"Adversarial Perturbations\")\n",
        "plt.imshow(np.transpose(grid, (1, 2, 0)))"
      ],
      "execution_count": 0,
      "outputs": [
        {
          "output_type": "stream",
          "text": [
            "Clipping input data to the valid range for imshow with RGB data ([0..1] for floats or [0..255] for integers).\n"
          ],
          "name": "stderr"
        },
        {
          "output_type": "stream",
          "text": [
            "New Labels:\n",
            "[[7 2 8 0]\n",
            " [4 8 4 8]\n",
            " [9 0 6 9]\n",
            " [0 8 5 9]]\n"
          ],
          "name": "stdout"
        },
        {
          "output_type": "execute_result",
          "data": {
            "text/plain": [
              "<matplotlib.image.AxesImage at 0x7f667e841630>"
            ]
          },
          "metadata": {
            "tags": []
          },
          "execution_count": 10
        },
        {
          "output_type": "display_data",
          "data": {
            "image/png": "[encoded data removed]",
            "text/plain": [
              "<Figure size 576x576 with 1 Axes>"
            ]
          },
          "metadata": {
            "tags": [],
            "needs_background": "light"
          }
        },
        {
          "output_type": "display_data",
          "data": {
            "image/png": "[encoded data removed]",
            "text/plain": [
              "<Figure size 576x576 with 1 Axes>"
            ]
          },
          "metadata": {
            "tags": [],
            "needs_background": "light"
          }
        }
      ]
    },
    {
      "cell_type": "markdown",
      "metadata": {
        "id": "oLY9v2ZrKNav",
        "colab_type": "text"
      },
      "source": [
        "## Cross Network Attack\n",
        "Now we'll try using the examples created using one network to attack another.\n",
        "Below is a model similar to the one used above that has pre-trained weights."
      ]
    },
    {
      "cell_type": "code",
      "metadata": {
        "id": "o3eH8Q4mKNaw",
        "colab_type": "code",
        "colab": {}
      },
      "source": [
        "class FCNet200(nn.Module):\n",
        "    def __init__(self, config):\n",
        "        super(FCNet200, self).__init__()\n",
        "        self.config = config\n",
        "        self.model = nn.Sequential(\n",
        "            nn.Linear(config.input_size, 200),\n",
        "            nn.LeakyReLU(0.1, inplace=True),\n",
        "            \n",
        "            nn.Linear(200, 200),\n",
        "            nn.LeakyReLU(0.1, inplace=True),\n",
        "            \n",
        "            nn.Linear(200, config.output_size),\n",
        "        )\n",
        "    \n",
        "    def forward(self, x):\n",
        "        if isinstance(x, np.ndarray):\n",
        "            x = torch.tensor(x).to(self.config.device)\n",
        "        x = x.view(x.size(0), self.config.input_size)\n",
        "        # Logits\n",
        "        return self.model(x)"
      ],
      "execution_count": 0,
      "outputs": []
    },
    {
      "cell_type": "markdown",
      "metadata": {
        "id": "fJOBPrE_KNay",
        "colab_type": "text"
      },
      "source": [
        "This loads the pre-trained weights for the model above. If you change the `True` to `False`\n",
        "it will train the model from scratch."
      ]
    },
    {
      "cell_type": "code",
      "metadata": {
        "scrolled": true,
        "id": "7iC3q1IPKNaz",
        "colab_type": "code",
        "outputId": "68da79de-abf8-4a96-abae-46f0e4f4ebb4",
        "colab": {
          "base_uri": "https://localhost:8080/",
          "height": 1000
        }
      },
      "source": [
        "model2 = fetch_trained_model(\n",
        "    FCNet200,\n",
        "    train_dl,\n",
        "    test_dl,\n",
        "    True,\n",
        "    \"./data/model_2.pt\",\n",
        "    config\n",
        ")"
      ],
      "execution_count": 0,
      "outputs": [
        {
          "output_type": "stream",
          "text": [
            "train: 1/25: 100%|███████████████████████████| 937/937 [00:06<00:00, 136.81it/s]\n",
            "Test: 100%|██████████████████████████████████| 157/157 [00:00<00:00, 192.24it/s]\n",
            "train: 2/25:   0%|                                      | 0/937 [00:00<?, ?it/s]"
          ],
          "name": "stderr"
        },
        {
          "output_type": "stream",
          "text": [
            "Test acc: 91.05%\n"
          ],
          "name": "stdout"
        },
        {
          "output_type": "stream",
          "text": [
            "train: 2/25: 100%|███████████████████████████| 937/937 [00:06<00:00, 135.47it/s]\n",
            "Test: 100%|██████████████████████████████████| 157/157 [00:00<00:00, 219.77it/s]\n",
            "train: 3/25:   0%|                                      | 0/937 [00:00<?, ?it/s]"
          ],
          "name": "stderr"
        },
        {
          "output_type": "stream",
          "text": [
            "Test acc: 92.43%\n"
          ],
          "name": "stdout"
        },
        {
          "output_type": "stream",
          "text": [
            "train: 3/25: 100%|███████████████████████████| 937/937 [00:06<00:00, 139.57it/s]\n",
            "Test: 100%|██████████████████████████████████| 157/157 [00:00<00:00, 222.21it/s]\n",
            "train: 4/25:   0%|                                      | 0/937 [00:00<?, ?it/s]"
          ],
          "name": "stderr"
        },
        {
          "output_type": "stream",
          "text": [
            "Test acc: 93.23%\n"
          ],
          "name": "stdout"
        },
        {
          "output_type": "stream",
          "text": [
            "train: 4/25: 100%|███████████████████████████| 937/937 [00:06<00:00, 139.52it/s]\n",
            "Test: 100%|██████████████████████████████████| 157/157 [00:00<00:00, 222.26it/s]\n",
            "train: 5/25:   0%|                                      | 0/937 [00:00<?, ?it/s]"
          ],
          "name": "stderr"
        },
        {
          "output_type": "stream",
          "text": [
            "Test acc: 93.74%\n"
          ],
          "name": "stdout"
        },
        {
          "output_type": "stream",
          "text": [
            "train: 5/25: 100%|███████████████████████████| 937/937 [00:06<00:00, 134.11it/s]\n",
            "Test: 100%|██████████████████████████████████| 157/157 [00:00<00:00, 220.22it/s]\n",
            "train: 6/25:   0%|                                      | 0/937 [00:00<?, ?it/s]"
          ],
          "name": "stderr"
        },
        {
          "output_type": "stream",
          "text": [
            "Test acc: 94.09%\n"
          ],
          "name": "stdout"
        },
        {
          "output_type": "stream",
          "text": [
            "train: 6/25: 100%|███████████████████████████| 937/937 [00:06<00:00, 140.78it/s]\n",
            "Test: 100%|██████████████████████████████████| 157/157 [00:00<00:00, 224.95it/s]\n",
            "train: 7/25:   0%|                                      | 0/937 [00:00<?, ?it/s]"
          ],
          "name": "stderr"
        },
        {
          "output_type": "stream",
          "text": [
            "Test acc: 94.50%\n"
          ],
          "name": "stdout"
        },
        {
          "output_type": "stream",
          "text": [
            "train: 7/25: 100%|███████████████████████████| 937/937 [00:06<00:00, 139.86it/s]\n",
            "Test: 100%|██████████████████████████████████| 157/157 [00:00<00:00, 223.42it/s]\n",
            "train: 8/25:   0%|                                      | 0/937 [00:00<?, ?it/s]"
          ],
          "name": "stderr"
        },
        {
          "output_type": "stream",
          "text": [
            "Test acc: 94.67%\n"
          ],
          "name": "stdout"
        },
        {
          "output_type": "stream",
          "text": [
            "train: 8/25: 100%|███████████████████████████| 937/937 [00:06<00:00, 135.41it/s]\n",
            "Test: 100%|██████████████████████████████████| 157/157 [00:00<00:00, 222.42it/s]\n",
            "train: 9/25:   0%|                                      | 0/937 [00:00<?, ?it/s]"
          ],
          "name": "stderr"
        },
        {
          "output_type": "stream",
          "text": [
            "Test acc: 94.89%\n"
          ],
          "name": "stdout"
        },
        {
          "output_type": "stream",
          "text": [
            "train: 9/25: 100%|███████████████████████████| 937/937 [00:06<00:00, 134.64it/s]\n",
            "Test: 100%|██████████████████████████████████| 157/157 [00:00<00:00, 206.06it/s]\n",
            "train: 10/25:   0%|                                     | 0/937 [00:00<?, ?it/s]"
          ],
          "name": "stderr"
        },
        {
          "output_type": "stream",
          "text": [
            "Test acc: 95.14%\n"
          ],
          "name": "stdout"
        },
        {
          "output_type": "stream",
          "text": [
            "train: 10/25: 100%|██████████████████████████| 937/937 [00:06<00:00, 136.68it/s]\n",
            "Test: 100%|██████████████████████████████████| 157/157 [00:00<00:00, 221.00it/s]\n",
            "train: 11/25:   0%|                                     | 0/937 [00:00<?, ?it/s]"
          ],
          "name": "stderr"
        },
        {
          "output_type": "stream",
          "text": [
            "Test acc: 95.33%\n"
          ],
          "name": "stdout"
        },
        {
          "output_type": "stream",
          "text": [
            "train: 11/25: 100%|██████████████████████████| 937/937 [00:06<00:00, 137.08it/s]\n",
            "Test: 100%|██████████████████████████████████| 157/157 [00:00<00:00, 216.73it/s]\n",
            "train: 12/25:   0%|                                     | 0/937 [00:00<?, ?it/s]"
          ],
          "name": "stderr"
        },
        {
          "output_type": "stream",
          "text": [
            "Test acc: 95.41%\n"
          ],
          "name": "stdout"
        },
        {
          "output_type": "stream",
          "text": [
            "train: 12/25: 100%|██████████████████████████| 937/937 [00:06<00:00, 136.76it/s]\n",
            "Test: 100%|██████████████████████████████████| 157/157 [00:00<00:00, 222.86it/s]\n",
            "train: 13/25:   0%|                                     | 0/937 [00:00<?, ?it/s]"
          ],
          "name": "stderr"
        },
        {
          "output_type": "stream",
          "text": [
            "Test acc: 95.48%\n"
          ],
          "name": "stdout"
        },
        {
          "output_type": "stream",
          "text": [
            "train: 13/25: 100%|██████████████████████████| 937/937 [00:06<00:00, 138.60it/s]\n",
            "Test: 100%|██████████████████████████████████| 157/157 [00:00<00:00, 223.92it/s]\n",
            "train: 14/25:   0%|                                     | 0/937 [00:00<?, ?it/s]"
          ],
          "name": "stderr"
        },
        {
          "output_type": "stream",
          "text": [
            "Test acc: 95.57%\n"
          ],
          "name": "stdout"
        },
        {
          "output_type": "stream",
          "text": [
            "train: 14/25: 100%|██████████████████████████| 937/937 [00:06<00:00, 137.73it/s]\n",
            "Test: 100%|██████████████████████████████████| 157/157 [00:00<00:00, 223.20it/s]\n",
            "train: 15/25:   0%|                                     | 0/937 [00:00<?, ?it/s]"
          ],
          "name": "stderr"
        },
        {
          "output_type": "stream",
          "text": [
            "Test acc: 95.73%\n"
          ],
          "name": "stdout"
        },
        {
          "output_type": "stream",
          "text": [
            "train: 15/25: 100%|██████████████████████████| 937/937 [00:06<00:00, 137.00it/s]\n",
            "Test: 100%|██████████████████████████████████| 157/157 [00:00<00:00, 202.45it/s]\n",
            "train: 16/25:   0%|                                     | 0/937 [00:00<?, ?it/s]"
          ],
          "name": "stderr"
        },
        {
          "output_type": "stream",
          "text": [
            "Test acc: 95.69%\n"
          ],
          "name": "stdout"
        },
        {
          "output_type": "stream",
          "text": [
            "train: 16/25: 100%|██████████████████████████| 937/937 [00:06<00:00, 140.77it/s]\n",
            "Test: 100%|██████████████████████████████████| 157/157 [00:00<00:00, 229.68it/s]\n",
            "train: 17/25:   0%|                                     | 0/937 [00:00<?, ?it/s]"
          ],
          "name": "stderr"
        },
        {
          "output_type": "stream",
          "text": [
            "Test acc: 95.77%\n"
          ],
          "name": "stdout"
        },
        {
          "output_type": "stream",
          "text": [
            "train: 17/25: 100%|██████████████████████████| 937/937 [00:07<00:00, 132.94it/s]\n",
            "Test: 100%|██████████████████████████████████| 157/157 [00:00<00:00, 205.82it/s]\n",
            "train: 18/25:   0%|                                     | 0/937 [00:00<?, ?it/s]"
          ],
          "name": "stderr"
        },
        {
          "output_type": "stream",
          "text": [
            "Test acc: 95.80%\n"
          ],
          "name": "stdout"
        },
        {
          "output_type": "stream",
          "text": [
            "train: 18/25: 100%|██████████████████████████| 937/937 [00:06<00:00, 138.23it/s]\n",
            "Test: 100%|██████████████████████████████████| 157/157 [00:00<00:00, 223.37it/s]\n",
            "train: 19/25:   0%|                                     | 0/937 [00:00<?, ?it/s]"
          ],
          "name": "stderr"
        },
        {
          "output_type": "stream",
          "text": [
            "Test acc: 95.79%\n"
          ],
          "name": "stdout"
        },
        {
          "output_type": "stream",
          "text": [
            "train: 19/25: 100%|██████████████████████████| 937/937 [00:06<00:00, 137.95it/s]\n",
            "Test: 100%|██████████████████████████████████| 157/157 [00:00<00:00, 220.50it/s]\n",
            "train: 20/25:   0%|                                     | 0/937 [00:00<?, ?it/s]"
          ],
          "name": "stderr"
        },
        {
          "output_type": "stream",
          "text": [
            "Test acc: 95.92%\n"
          ],
          "name": "stdout"
        },
        {
          "output_type": "stream",
          "text": [
            "train: 20/25: 100%|██████████████████████████| 937/937 [00:06<00:00, 139.89it/s]\n",
            "Test: 100%|██████████████████████████████████| 157/157 [00:00<00:00, 221.07it/s]\n",
            "train: 21/25:   0%|                                     | 0/937 [00:00<?, ?it/s]"
          ],
          "name": "stderr"
        },
        {
          "output_type": "stream",
          "text": [
            "Test acc: 95.91%\n"
          ],
          "name": "stdout"
        },
        {
          "output_type": "stream",
          "text": [
            "train: 21/25: 100%|██████████████████████████| 937/937 [00:06<00:00, 140.58it/s]\n",
            "Test: 100%|██████████████████████████████████| 157/157 [00:00<00:00, 204.50it/s]\n",
            "train: 22/25:   0%|                                     | 0/937 [00:00<?, ?it/s]"
          ],
          "name": "stderr"
        },
        {
          "output_type": "stream",
          "text": [
            "Test acc: 95.92%\n"
          ],
          "name": "stdout"
        },
        {
          "output_type": "stream",
          "text": [
            "train: 22/25: 100%|██████████████████████████| 937/937 [00:07<00:00, 133.28it/s]\n",
            "Test: 100%|██████████████████████████████████| 157/157 [00:00<00:00, 209.19it/s]\n",
            "train: 23/25:   0%|                                     | 0/937 [00:00<?, ?it/s]"
          ],
          "name": "stderr"
        },
        {
          "output_type": "stream",
          "text": [
            "Test acc: 95.91%\n"
          ],
          "name": "stdout"
        },
        {
          "output_type": "stream",
          "text": [
            "train: 23/25: 100%|██████████████████████████| 937/937 [00:06<00:00, 134.82it/s]\n",
            "Test: 100%|██████████████████████████████████| 157/157 [00:00<00:00, 218.05it/s]\n",
            "train: 24/25:   0%|                                     | 0/937 [00:00<?, ?it/s]"
          ],
          "name": "stderr"
        },
        {
          "output_type": "stream",
          "text": [
            "Test acc: 95.93%\n"
          ],
          "name": "stdout"
        },
        {
          "output_type": "stream",
          "text": [
            "train: 24/25: 100%|██████████████████████████| 937/937 [00:06<00:00, 134.76it/s]\n",
            "Test: 100%|██████████████████████████████████| 157/157 [00:00<00:00, 223.63it/s]\n",
            "train: 25/25:   0%|                                     | 0/937 [00:00<?, ?it/s]"
          ],
          "name": "stderr"
        },
        {
          "output_type": "stream",
          "text": [
            "Test acc: 95.95%\n"
          ],
          "name": "stdout"
        },
        {
          "output_type": "stream",
          "text": [
            "train: 25/25: 100%|██████████████████████████| 937/937 [00:06<00:00, 139.30it/s]\n",
            "Test: 100%|██████████████████████████████████| 157/157 [00:00<00:00, 189.16it/s]"
          ],
          "name": "stderr"
        },
        {
          "output_type": "stream",
          "text": [
            "Test acc: 95.97%\n",
            "FCNet200(\n",
            "  (model): Sequential(\n",
            "    (0): Linear(in_features=784, out_features=200, bias=True)\n",
            "    (1): LeakyReLU(negative_slope=0.1, inplace=True)\n",
            "    (2): Linear(in_features=200, out_features=200, bias=True)\n",
            "    (3): LeakyReLU(negative_slope=0.1, inplace=True)\n",
            "    (4): Linear(in_features=200, out_features=10, bias=True)\n",
            "  )\n",
            ")\n"
          ],
          "name": "stdout"
        },
        {
          "output_type": "stream",
          "text": [
            "\n"
          ],
          "name": "stderr"
        }
      ]
    },
    {
      "cell_type": "code",
      "metadata": {
        "id": "BaqfbKNZKNa1",
        "colab_type": "code",
        "outputId": "74ad70f2-73b6-4991-f45f-50f2e6ba0ac8",
        "colab": {
          "base_uri": "https://localhost:8080/",
          "height": 119
        }
      },
      "source": [
        "cross_model_labels = []\n",
        "for xr in xr_imgs:\n",
        "    label = logits_to_label(model2(xr.unsqueeze(0).to(config.device))).item()\n",
        "    cross_model_labels.append(label)\n",
        "cross_model_labels = np.array(cross_model_labels).reshape(4, 4)\n",
        "\n",
        "print(f\"Cross Model Adverserial Predictions:\\n{cross_model_labels}\")\n",
        "print(f\"Attack Success: {(cross_model_labels == xr_labels).sum() / N:.2%}\")"
      ],
      "execution_count": 0,
      "outputs": [
        {
          "output_type": "stream",
          "text": [
            "Cross Model Adverserial Predictions:\n",
            "[[7 2 8 0]\n",
            " [4 8 4 8]\n",
            " [9 0 6 9]\n",
            " [0 8 5 9]]\n",
            "Attack Success: 100.00%\n"
          ],
          "name": "stdout"
        }
      ]
    },
    {
      "cell_type": "markdown",
      "metadata": {
        "id": "7oE5FzYvKNa3",
        "colab_type": "text"
      },
      "source": [
        "**Bonus: Try experimenting with the second model's architecture to see if it affects the attack\n",
        "success rate.**"
      ]
    },
    {
      "cell_type": "code",
      "metadata": {
        "id": "6AWqH6ntKNa4",
        "colab_type": "code",
        "colab": {}
      },
      "source": [
        ""
      ],
      "execution_count": 0,
      "outputs": []
    },
    {
      "cell_type": "markdown",
      "metadata": {
        "id": "nDfdYDJ4KNa7",
        "colab_type": "text"
      },
      "source": [
        "### Part 2: Fast Gradient Sign Method (Optional)\n",
        "\n",
        "This section implements the [Fast Gradient Sign Method](https://arxiv.org/abs/1412.6572), which is a fast alternative method for finding adversarial examples.  It is untargeted, in the sense that unlike the section above, you don't get to choose what your image gets classified as.\n",
        "\n",
        "The following cell is group of helper functions."
      ]
    },
    {
      "cell_type": "code",
      "metadata": {
        "id": "N_SxFl5OKNa8",
        "colab_type": "code",
        "colab": {}
      },
      "source": [
        "\n",
        "\n",
        "def load_dataset(torchvision_dataset):\n",
        "    save_dir = \"./data\"\n",
        "    transform_list = [transforms.ToTensor()]\n",
        "    transform = transforms.Compose(transform_list)\n",
        "    kwargs = {\n",
        "        \"download\": True,\n",
        "        \"transform\": transform,\n",
        "    }\n",
        "    train = torchvision_dataset(save_dir, train=True, **kwargs)\n",
        "    test = torchvision_dataset(save_dir, train=False, **kwargs)\n",
        "    return train, test\n",
        "\n",
        "\n",
        "def resize_dataset(dataset, dataset_len=None):\n",
        "    if dataset_len is None:\n",
        "        return dataset\n",
        "    assert 0 <= dataset_len <= len(dataset)\n",
        "    ignored_len = len(dataset) - dataset_len\n",
        "    sizes = (dataset_len, ignored_len)\n",
        "    dataset, ignored = random_split(dataset, sizes)\n",
        "    return dataset\n",
        "\n",
        "\n",
        "def make_batches(train, test, batch_size=100):\n",
        "    assert 1 <= batch_size <= len(test)\n",
        "    kwargs = {\n",
        "        \"batch_size\": batch_size,\n",
        "        \"shuffle\": True,\n",
        "    }\n",
        "    train_loader = DataLoader(train, **kwargs)\n",
        "    test_loader = DataLoader(test, **kwargs)\n",
        "    return train_loader, test_loader\n",
        "    \n",
        "def train_model(model, device, train_loader, optimizer, criterion, num_epochs=1):\n",
        "    for epoch in range(num_epochs):\n",
        "        print(\"Training Epoch\", epoch)\n",
        "        for i, (images, targets) in enumerate(train_loader):\n",
        "            images = images.to(device)\n",
        "            targets = targets.to(device)\n",
        "\n",
        "            # Forward\n",
        "            outputs = model(images)\n",
        "\n",
        "            # Backward\n",
        "            optimizer.zero_grad()\n",
        "            loss = criterion(outputs, targets)\n",
        "            loss.backward()\n",
        "            optimizer.step()\n",
        "\n",
        "def test_model(model, device, test_loader):\n",
        "    correct = 0\n",
        "    total = 0\n",
        "    for i, (images, targets) in enumerate(test_loader):\n",
        "        images = images.to(device)\n",
        "        targets = targets.to(device)\n",
        "\n",
        "        # Forward\n",
        "        outputs = model(images)\n",
        "\n",
        "        # Prediction\n",
        "        predicted = torch.argmax(outputs, 1)\n",
        "        total += targets.size(0)\n",
        "        correct += (predicted == targets).sum().item()\n",
        "\n",
        "    accuracy = 100 * correct / total\n",
        "    return accuracy"
      ],
      "execution_count": 0,
      "outputs": []
    },
    {
      "cell_type": "markdown",
      "metadata": {
        "id": "YIGX_hAcKNa-",
        "colab_type": "text"
      },
      "source": [
        "### Model Definition\n",
        "This is our convolutional network that we use to train both our adversarial and non-adversarial models."
      ]
    },
    {
      "cell_type": "code",
      "metadata": {
        "id": "-OEx-I7EKNa-",
        "colab_type": "code",
        "colab": {}
      },
      "source": [
        "class Conv_Net(nn.Module):\n",
        "    def __init__(self, in_height, in_width, num_targets):\n",
        "        super().__init__()\n",
        "        # Convolutional parameters\n",
        "        kernel_size = 4\n",
        "        stride = 1\n",
        "\n",
        "        # Pool layer and its parameters\n",
        "        pool_kernel_size = 2\n",
        "        pool_stride = pool_kernel_size # When these values are the same it reduces the image by half\n",
        "        self.pool = nn.MaxPool2d(pool_kernel_size, pool_stride)\n",
        "\n",
        "        in_channels_2 = 1\n",
        "        out_channels_2 = 10\n",
        "        self.conv2 = nn.Conv2d(\n",
        "            in_channels_2,\n",
        "            out_channels_2, \n",
        "            kernel_size=kernel_size, \n",
        "            stride=stride, \n",
        "        )\n",
        "        self.bn2 = nn.BatchNorm2d(out_channels_2)\n",
        "\n",
        "        self.conv2_height = height - kernel_size + 1\n",
        "        self.conv2_width = width - kernel_size + 1\n",
        "        self.conv2_size = self.conv2_height * self.conv2_width * out_channels_2\n",
        "\n",
        "        self.pool1_height = int(self.conv2_height / pool_kernel_size)\n",
        "        self.pool1_width = int(self.conv2_height / pool_kernel_size)\n",
        "        self.pool1_size = self.pool1_height * self.pool1_width * out_channels_2\n",
        "\n",
        "        out_channels_3 = 10\n",
        "        self.conv3 = nn.Conv2d(\n",
        "            out_channels_2, \n",
        "            out_channels_3, \n",
        "            kernel_size=kernel_size, \n",
        "            stride=stride, \n",
        "        )\n",
        "        self.bn3 = nn.BatchNorm2d(out_channels_3)\n",
        "\n",
        "        self.conv3_height = self.pool1_height - kernel_size + 1\n",
        "        self.conv3_width = self.pool1_width - kernel_size + 1\n",
        "        self.conv3_size = self.conv3_height * self.conv3_width * out_channels_3\n",
        "\n",
        "        self.pool2_height = int(self.conv3_height / pool_kernel_size)\n",
        "        self.pool2_width = int(self.conv3_height / pool_kernel_size)\n",
        "        self.pool2_size = self.pool2_height * self.pool2_width * out_channels_2\n",
        "\n",
        "        in_features_4 = self.pool2_size\n",
        "        out_features_4 = int(in_features_4 / 2)\n",
        "        self.fc1 = nn.Linear(in_features_4, out_features_4)\n",
        "        self.bn4 = nn.BatchNorm1d(out_features_4)\n",
        "\n",
        "        out_features_5 = int(out_features_4 / 2)\n",
        "        self.fc2 = nn.Linear(out_features_4, out_features_5)\n",
        "        self.bn5 = nn.BatchNorm1d(out_features_5)\n",
        "\n",
        "        self.fc3 = nn.Linear(out_features_5, num_targets)\n",
        "\n",
        "    def forward(self, x):\n",
        "        # First convolution and pooling\n",
        "        x = self.conv2(x)\n",
        "        x = F.relu(x)\n",
        "        x = self.pool(x)\n",
        "        x = self.bn2(x)\n",
        "\n",
        "        # Second convolution and pooling\n",
        "        x = self.conv3(x)\n",
        "        x = F.relu(x)\n",
        "        x = self.pool(x)\n",
        "        x = self.bn3(x)\n",
        "\n",
        "        # Flattening convolutional layer for fully connected layer\n",
        "        batch_size = -1\n",
        "        x = x.view(batch_size, self.pool2_size) # This value was calculated in __init__\n",
        "\n",
        "        # First fcl\n",
        "        x = self.fc1(x)\n",
        "        x = F.relu(x)\n",
        "        x = self.bn4(x)\n",
        "\n",
        "        # Second fcl\n",
        "        x = self.fc2(x)\n",
        "        x = F.relu(x)\n",
        "        x = self.bn5(x)\n",
        "       \n",
        "        # Output fcl\n",
        "        x = self.fc3(x)   \n",
        "        x = F.log_softmax(x, dim=1)\n",
        "        return x"
      ],
      "execution_count": 0,
      "outputs": []
    },
    {
      "cell_type": "markdown",
      "metadata": {
        "id": "xWrHtZxWKNbB",
        "colab_type": "text"
      },
      "source": [
        "### Non-adversarial Model"
      ]
    },
    {
      "cell_type": "code",
      "metadata": {
        "id": "1-kqgFUIKNbB",
        "colab_type": "code",
        "colab": {}
      },
      "source": [
        "# Load data\n",
        "torchvision_dataset = datasets.MNIST\n",
        "train, test = load_dataset(torchvision_dataset)\n",
        "\n",
        "# Find dimensions\n",
        "height, width = train.data[0].shape\n",
        "num_targets = len(set(train.targets.numpy()))\n",
        "\n",
        "# Setting the size to \"None\" will use all instances\n",
        "train_len, test_len = 8000, 2000\n",
        "train = resize_dataset(train, train_len)\n",
        "test = resize_dataset(test, test_len)\n",
        "\n",
        "# Batch\n",
        "batch_size = 100\n",
        "train_loader, test_loader = make_batches(train, test, batch_size)\n",
        "\n",
        "# Make model\n",
        "good_model = Conv_Net(height, width, num_targets).to(device)\n",
        "\n",
        "# Optimizer\n",
        "learning_rate = 0.001\n",
        "optimizer = optim.Adam(good_model.parameters(), lr = learning_rate)\n",
        "\n",
        "# Criterion\n",
        "criterion = nn.CrossEntropyLoss()\n",
        "\n",
        "# Train\n",
        "num_epochs = 10\n",
        "train_model(good_model, device, train_loader, optimizer, criterion, num_epochs)\n",
        "\n",
        "# Test\n",
        "accuracy = test_model(good_model, device, test_loader)\n",
        "print(f\"Original Accuracy: {accuracy} %\")"
      ],
      "execution_count": 0,
      "outputs": []
    },
    {
      "cell_type": "markdown",
      "metadata": {
        "id": "EtsTSJz8KNbD",
        "colab_type": "text"
      },
      "source": [
        "### Adversarial parameters"
      ]
    },
    {
      "cell_type": "code",
      "metadata": {
        "id": "JoY0x0vwKNbE",
        "colab_type": "code",
        "colab": {}
      },
      "source": [
        "learning_rate = 0.001\n",
        "# This is the length of the epsilon_list you are going to create. If your list is longer or shorter you must reflect that change in this variable.\n",
        "num_epsilons = 5 \n",
        "\n",
        "# Make a list of epsilon values for the attack\n",
        "epsilon_list = [i / (num_epsilons * 2) for i in range(num_epsilons)]\n",
        "\n",
        "# This is storage for samples from our adversarial model.\n",
        "examples = {\n",
        "    epsilon: {\n",
        "        \"original_images\": [],\n",
        "        \"adversarial_images\": [],\n",
        "        \"original_predictions\": [],\n",
        "        \"adversarial_predictions\": []\n",
        "    }\n",
        "    for epsilon in epsilon_list\n",
        "}"
      ],
      "execution_count": 0,
      "outputs": []
    },
    {
      "cell_type": "markdown",
      "metadata": {
        "id": "1RUN-vKoKNbG",
        "colab_type": "text"
      },
      "source": [
        "Q: Below you will set the clamp min and max values on the line \"torch.clamp(perturbated_images, clamp_min, clamp_max)\". Why do we need to clamp and what would the effect of using a value outside the range be?\n",
        "\n",
        "A:\n",
        "    \n",
        "Q: This is very subtle. Why are we adding our perturbations instead of subtracting them? The goal should be to go in the opposite direction of the gradient. How is addition moving us uphill?\n",
        "\n",
        "A:"
      ]
    },
    {
      "cell_type": "markdown",
      "metadata": {
        "id": "y6e8AK45KNbG",
        "colab_type": "text"
      },
      "source": [
        "### Adversarial Model"
      ]
    },
    {
      "cell_type": "code",
      "metadata": {
        "id": "osWmdaBXKNbH",
        "colab_type": "code",
        "colab": {}
      },
      "source": [
        "for epsilon in epsilon_list:\n",
        "    print(f\"Epsilon: {epsilon}\")\n",
        "    \n",
        "    # Train Attack model\n",
        "    attack_model = Conv_Net(height, width, num_targets).to(device)\n",
        "\n",
        "    optimizer = optim.Adam(attack_model.parameters(), lr = learning_rate)\n",
        "    criterion = nn.CrossEntropyLoss()\n",
        "\n",
        "    train_model(attack_model, device, train_loader, optimizer, criterion, num_epochs)\n",
        "    pre_attack_accuracy = test_model(attack_model, device, test_loader)\n",
        "    print(f\"Pre-attack Accuracy: {pre_attack_accuracy} %\")\n",
        "\n",
        "    correct = 0\n",
        "    total = 0\n",
        "    sample = True \n",
        "    \n",
        "    for i, (images, targets) in enumerate(test_loader):\n",
        "        images = images.to(device)\n",
        "        # Enable finding gradient w.r.t the inputs.\n",
        "        images.requires_grad = True \n",
        "        targets = targets.to(device)\n",
        "\n",
        "        # Forward\n",
        "        outputs = attack_model(images)\n",
        "        predicted = torch.argmax(outputs, 1)\n",
        "\n",
        "        # Backward\n",
        "        optimizer.zero_grad()\n",
        "        loss = criterion(outputs, targets)\n",
        "        loss.backward()\n",
        "\n",
        "        image_grad = images.grad \n",
        "\n",
        "        grad_sign = image_grad.sign()\n",
        "        perturbation = ???\n",
        "        perturbed_images = ???\n",
        "        clamp_min = ???\n",
        "        clamp_max = ??? # TODO\n",
        "        perturbed_images = torch.clamp(perturbed_images, clamp_min, clamp_max)\n",
        "\n",
        "        attack_output = attack_model(perturbed_images)\n",
        "        attack_predicted = torch.argmax(attack_output, 1)\n",
        "        \n",
        "        total += targets.size(0)\n",
        "        correct += (attack_predicted == targets).sum().item()\n",
        "        \n",
        "        if sample:\n",
        "            sample = False\n",
        "            \n",
        "            with torch.no_grad():\n",
        "                examples[epsilon][\"original_images\"] = images.cpu().numpy()[:num_epsilons]\n",
        "                examples[epsilon][\"adversarial_images\"] = perturbed_images.cpu().numpy()[:num_epsilons]\n",
        "                examples[epsilon][\"original_predictions\"] = predicted.cpu().numpy()[:num_epsilons]\n",
        "                examples[epsilon][\"adversarial_predictions\"] = attack_predicted.cpu().numpy()[:num_epsilons]\n",
        "            \n",
        "        \n",
        "    post_attack_accuracy = correct / total * 100\n",
        "    print(f\"Post-attack Accuracy: {post_attack_accuracy} %\")\n",
        "    print()"
      ],
      "execution_count": 0,
      "outputs": []
    },
    {
      "cell_type": "markdown",
      "metadata": {
        "id": "xNKY8GVpKNbJ",
        "colab_type": "text"
      },
      "source": [
        "Q: If you were a real attacker that relied on misclassification, how would you deal with the cases where the class was retained?\n",
        "\n",
        "A:\n",
        "\n",
        "Q: Go back and look at where we set grad_sign. If we had multiplied the gradient instead of the gradient sign by the epsilon value our performance would not be as high. Why?\n",
        "\n",
        "A:\n",
        "\n",
        "Q: Our purturbations depended on the gradient of the image. Why is the gradient necessary as opposed to some non-gradient dependent function the input image?\n",
        "\n",
        "A:\n",
        "\n",
        "Q: You can misclassify an image by just mutating it. What is the point of this model? \n",
        "\n",
        "A:"
      ]
    },
    {
      "cell_type": "markdown",
      "metadata": {
        "id": "ki3T-NePKNbJ",
        "colab_type": "text"
      },
      "source": [
        "### Plot sample of adversarial images"
      ]
    },
    {
      "cell_type": "code",
      "metadata": {
        "id": "uZdnjvmcKNbJ",
        "colab_type": "code",
        "colab": {}
      },
      "source": [
        "plot_dim = 10, 12\n",
        "plt.figure(figsize=plot_dim)\n",
        "\n",
        "plot_index = 1\n",
        "for row in range(num_epsilons):\n",
        "    for column in range(num_epsilons):\n",
        "        plt.subplot(num_epsilons, num_epsilons, plot_index)\n",
        "\n",
        "        plt.xticks([], [])\n",
        "        plt.yticks([], [])\n",
        "\n",
        "        epsilon = epsilon_list[row]\n",
        "        if column == 0:\n",
        "            plt.ylabel(\"Eps: {}\".format(epsilon), fontsize=14)\n",
        "\n",
        "        adversarial_image = examples[epsilon][\"adversarial_images\"][column].squeeze()\n",
        "        original_prediction = examples[epsilon][\"original_predictions\"][column].item()\n",
        "        adversarial_prediction = examples[epsilon][\"adversarial_predictions\"][column].item()\n",
        "\n",
        "        plt.title(\"{} -> {}\".format(original_prediction, adversarial_prediction))\n",
        "        plt.imshow(adversarial_image, cmap=\"gray\")\n",
        "\n",
        "        plot_index += 1\n",
        "plt.tight_layout()\n",
        "plt.show()"
      ],
      "execution_count": 0,
      "outputs": []
    },
    {
      "cell_type": "markdown",
      "metadata": {
        "id": "zsTLDbhnKNbM",
        "colab_type": "text"
      },
      "source": [
        "### Part 2: Bonus\n",
        "Plot just the purturbations. You can modify the code from the cell above but put the new plotting code in this cell below so that both copies are retained."
      ]
    }
  ]
}