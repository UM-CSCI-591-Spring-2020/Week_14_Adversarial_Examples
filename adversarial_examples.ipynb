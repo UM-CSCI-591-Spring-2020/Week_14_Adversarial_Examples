{
  "nbformat": 4,
  "nbformat_minor": 0,
  "metadata": {
    "kernelspec": {
      "display_name": "Python 3",
      "language": "python",
      "name": "python3"
    },
    "language_info": {
      "codemirror_mode": {
        "name": "ipython",
        "version": 3
      },
      "file_extension": ".py",
      "mimetype": "text/x-python",
      "name": "python",
      "nbconvert_exporter": "python",
      "pygments_lexer": "ipython3",
      "version": "3.7.7"
    },
    "colab": {
      "name": "adversarial_examples.ipynb",
      "provenance": [],
      "toc_visible": true
    },
    "accelerator": "GPU",
    "widgets": {
      "application/vnd.jupyter.widget-state+json": {
        "0f91b17ed1544d52979ccf724a8f5c0b": {
          "model_module": "@jupyter-widgets/controls",
          "model_name": "HBoxModel",
          "state": {
            "_view_name": "HBoxView",
            "_dom_classes": [],
            "_model_name": "HBoxModel",
            "_view_module": "@jupyter-widgets/controls",
            "_model_module_version": "1.5.0",
            "_view_count": null,
            "_view_module_version": "1.5.0",
            "box_style": "",
            "layout": "IPY_MODEL_ebb76e773cb1446d8c6059168458eb4b",
            "_model_module": "@jupyter-widgets/controls",
            "children": [
              "IPY_MODEL_dfd1d70161954fe7a884d21e07044275",
              "IPY_MODEL_c013c35207704dd6a22e98fd36a891eb"
            ]
          }
        },
        "ebb76e773cb1446d8c6059168458eb4b": {
          "model_module": "@jupyter-widgets/base",
          "model_name": "LayoutModel",
          "state": {
            "_view_name": "LayoutView",
            "grid_template_rows": null,
            "right": null,
            "justify_content": null,
            "_view_module": "@jupyter-widgets/base",
            "overflow": null,
            "_model_module_version": "1.2.0",
            "_view_count": null,
            "flex_flow": null,
            "width": null,
            "min_width": null,
            "border": null,
            "align_items": null,
            "bottom": null,
            "_model_module": "@jupyter-widgets/base",
            "top": null,
            "grid_column": null,
            "overflow_y": null,
            "overflow_x": null,
            "grid_auto_flow": null,
            "grid_area": null,
            "grid_template_columns": null,
            "flex": null,
            "_model_name": "LayoutModel",
            "justify_items": null,
            "grid_row": null,
            "max_height": null,
            "align_content": null,
            "visibility": null,
            "align_self": null,
            "height": null,
            "min_height": null,
            "padding": null,
            "grid_auto_rows": null,
            "grid_gap": null,
            "max_width": null,
            "order": null,
            "_view_module_version": "1.2.0",
            "grid_template_areas": null,
            "object_position": null,
            "object_fit": null,
            "grid_auto_columns": null,
            "margin": null,
            "display": null,
            "left": null
          }
        },
        "dfd1d70161954fe7a884d21e07044275": {
          "model_module": "@jupyter-widgets/controls",
          "model_name": "IntProgressModel",
          "state": {
            "_view_name": "ProgressView",
            "style": "IPY_MODEL_4b71c8bc718c40bfb57393c72a9882ab",
            "_dom_classes": [],
            "description": "",
            "_model_name": "IntProgressModel",
            "bar_style": "info",
            "max": 1,
            "_view_module": "@jupyter-widgets/controls",
            "_model_module_version": "1.5.0",
            "value": 1,
            "_view_count": null,
            "_view_module_version": "1.5.0",
            "orientation": "horizontal",
            "min": 0,
            "description_tooltip": null,
            "_model_module": "@jupyter-widgets/controls",
            "layout": "IPY_MODEL_ba4be37461c24d0e9524794342bd9f51"
          }
        },
        "c013c35207704dd6a22e98fd36a891eb": {
          "model_module": "@jupyter-widgets/controls",
          "model_name": "HTMLModel",
          "state": {
            "_view_name": "HTMLView",
            "style": "IPY_MODEL_47bce4ac279c403399f9fcd23b9edf94",
            "_dom_classes": [],
            "description": "",
            "_model_name": "HTMLModel",
            "placeholder": "​",
            "_view_module": "@jupyter-widgets/controls",
            "_model_module_version": "1.5.0",
            "value": " 9920512/? [00:20&lt;00:00, 1285220.39it/s]",
            "_view_count": null,
            "_view_module_version": "1.5.0",
            "description_tooltip": null,
            "_model_module": "@jupyter-widgets/controls",
            "layout": "IPY_MODEL_89fd5d2a3437491488a90aac055fba68"
          }
        },
        "4b71c8bc718c40bfb57393c72a9882ab": {
          "model_module": "@jupyter-widgets/controls",
          "model_name": "ProgressStyleModel",
          "state": {
            "_view_name": "StyleView",
            "_model_name": "ProgressStyleModel",
            "description_width": "initial",
            "_view_module": "@jupyter-widgets/base",
            "_model_module_version": "1.5.0",
            "_view_count": null,
            "_view_module_version": "1.2.0",
            "bar_color": null,
            "_model_module": "@jupyter-widgets/controls"
          }
        },
        "ba4be37461c24d0e9524794342bd9f51": {
          "model_module": "@jupyter-widgets/base",
          "model_name": "LayoutModel",
          "state": {
            "_view_name": "LayoutView",
            "grid_template_rows": null,
            "right": null,
            "justify_content": null,
            "_view_module": "@jupyter-widgets/base",
            "overflow": null,
            "_model_module_version": "1.2.0",
            "_view_count": null,
            "flex_flow": null,
            "width": null,
            "min_width": null,
            "border": null,
            "align_items": null,
            "bottom": null,
            "_model_module": "@jupyter-widgets/base",
            "top": null,
            "grid_column": null,
            "overflow_y": null,
            "overflow_x": null,
            "grid_auto_flow": null,
            "grid_area": null,
            "grid_template_columns": null,
            "flex": null,
            "_model_name": "LayoutModel",
            "justify_items": null,
            "grid_row": null,
            "max_height": null,
            "align_content": null,
            "visibility": null,
            "align_self": null,
            "height": null,
            "min_height": null,
            "padding": null,
            "grid_auto_rows": null,
            "grid_gap": null,
            "max_width": null,
            "order": null,
            "_view_module_version": "1.2.0",
            "grid_template_areas": null,
            "object_position": null,
            "object_fit": null,
            "grid_auto_columns": null,
            "margin": null,
            "display": null,
            "left": null
          }
        },
        "47bce4ac279c403399f9fcd23b9edf94": {
          "model_module": "@jupyter-widgets/controls",
          "model_name": "DescriptionStyleModel",
          "state": {
            "_view_name": "StyleView",
            "_model_name": "DescriptionStyleModel",
            "description_width": "",
            "_view_module": "@jupyter-widgets/base",
            "_model_module_version": "1.5.0",
            "_view_count": null,
            "_view_module_version": "1.2.0",
            "_model_module": "@jupyter-widgets/controls"
          }
        },
        "89fd5d2a3437491488a90aac055fba68": {
          "model_module": "@jupyter-widgets/base",
          "model_name": "LayoutModel",
          "state": {
            "_view_name": "LayoutView",
            "grid_template_rows": null,
            "right": null,
            "justify_content": null,
            "_view_module": "@jupyter-widgets/base",
            "overflow": null,
            "_model_module_version": "1.2.0",
            "_view_count": null,
            "flex_flow": null,
            "width": null,
            "min_width": null,
            "border": null,
            "align_items": null,
            "bottom": null,
            "_model_module": "@jupyter-widgets/base",
            "top": null,
            "grid_column": null,
            "overflow_y": null,
            "overflow_x": null,
            "grid_auto_flow": null,
            "grid_area": null,
            "grid_template_columns": null,
            "flex": null,
            "_model_name": "LayoutModel",
            "justify_items": null,
            "grid_row": null,
            "max_height": null,
            "align_content": null,
            "visibility": null,
            "align_self": null,
            "height": null,
            "min_height": null,
            "padding": null,
            "grid_auto_rows": null,
            "grid_gap": null,
            "max_width": null,
            "order": null,
            "_view_module_version": "1.2.0",
            "grid_template_areas": null,
            "object_position": null,
            "object_fit": null,
            "grid_auto_columns": null,
            "margin": null,
            "display": null,
            "left": null
          }
        },
        "4ee780628df945e0aa1d926d46e80b6b": {
          "model_module": "@jupyter-widgets/controls",
          "model_name": "HBoxModel",
          "state": {
            "_view_name": "HBoxView",
            "_dom_classes": [],
            "_model_name": "HBoxModel",
            "_view_module": "@jupyter-widgets/controls",
            "_model_module_version": "1.5.0",
            "_view_count": null,
            "_view_module_version": "1.5.0",
            "box_style": "",
            "layout": "IPY_MODEL_6ce8ef8bafaa49c7be11fa96fd9a796c",
            "_model_module": "@jupyter-widgets/controls",
            "children": [
              "IPY_MODEL_6d8612d907b3432eb17dacd7c13354c4",
              "IPY_MODEL_540ab0765b734ab4a27a14608c7015c6"
            ]
          }
        },
        "6ce8ef8bafaa49c7be11fa96fd9a796c": {
          "model_module": "@jupyter-widgets/base",
          "model_name": "LayoutModel",
          "state": {
            "_view_name": "LayoutView",
            "grid_template_rows": null,
            "right": null,
            "justify_content": null,
            "_view_module": "@jupyter-widgets/base",
            "overflow": null,
            "_model_module_version": "1.2.0",
            "_view_count": null,
            "flex_flow": null,
            "width": null,
            "min_width": null,
            "border": null,
            "align_items": null,
            "bottom": null,
            "_model_module": "@jupyter-widgets/base",
            "top": null,
            "grid_column": null,
            "overflow_y": null,
            "overflow_x": null,
            "grid_auto_flow": null,
            "grid_area": null,
            "grid_template_columns": null,
            "flex": null,
            "_model_name": "LayoutModel",
            "justify_items": null,
            "grid_row": null,
            "max_height": null,
            "align_content": null,
            "visibility": null,
            "align_self": null,
            "height": null,
            "min_height": null,
            "padding": null,
            "grid_auto_rows": null,
            "grid_gap": null,
            "max_width": null,
            "order": null,
            "_view_module_version": "1.2.0",
            "grid_template_areas": null,
            "object_position": null,
            "object_fit": null,
            "grid_auto_columns": null,
            "margin": null,
            "display": null,
            "left": null
          }
        },
        "6d8612d907b3432eb17dacd7c13354c4": {
          "model_module": "@jupyter-widgets/controls",
          "model_name": "IntProgressModel",
          "state": {
            "_view_name": "ProgressView",
            "style": "IPY_MODEL_4f1f99bca7a248c598777583da074174",
            "_dom_classes": [],
            "description": "",
            "_model_name": "IntProgressModel",
            "bar_style": "info",
            "max": 1,
            "_view_module": "@jupyter-widgets/controls",
            "_model_module_version": "1.5.0",
            "value": 1,
            "_view_count": null,
            "_view_module_version": "1.5.0",
            "orientation": "horizontal",
            "min": 0,
            "description_tooltip": null,
            "_model_module": "@jupyter-widgets/controls",
            "layout": "IPY_MODEL_8591792b9e7246dd8a47ad2be8624a77"
          }
        },
        "540ab0765b734ab4a27a14608c7015c6": {
          "model_module": "@jupyter-widgets/controls",
          "model_name": "HTMLModel",
          "state": {
            "_view_name": "HTMLView",
            "style": "IPY_MODEL_6d059249bb49433bb9925d7ad93b2432",
            "_dom_classes": [],
            "description": "",
            "_model_name": "HTMLModel",
            "placeholder": "​",
            "_view_module": "@jupyter-widgets/controls",
            "_model_module_version": "1.5.0",
            "value": " 32768/? [00:16&lt;00:00, 77178.30it/s]",
            "_view_count": null,
            "_view_module_version": "1.5.0",
            "description_tooltip": null,
            "_model_module": "@jupyter-widgets/controls",
            "layout": "IPY_MODEL_38923890a6ac4879ba5e411207595c3e"
          }
        },
        "4f1f99bca7a248c598777583da074174": {
          "model_module": "@jupyter-widgets/controls",
          "model_name": "ProgressStyleModel",
          "state": {
            "_view_name": "StyleView",
            "_model_name": "ProgressStyleModel",
            "description_width": "initial",
            "_view_module": "@jupyter-widgets/base",
            "_model_module_version": "1.5.0",
            "_view_count": null,
            "_view_module_version": "1.2.0",
            "bar_color": null,
            "_model_module": "@jupyter-widgets/controls"
          }
        },
        "8591792b9e7246dd8a47ad2be8624a77": {
          "model_module": "@jupyter-widgets/base",
          "model_name": "LayoutModel",
          "state": {
            "_view_name": "LayoutView",
            "grid_template_rows": null,
            "right": null,
            "justify_content": null,
            "_view_module": "@jupyter-widgets/base",
            "overflow": null,
            "_model_module_version": "1.2.0",
            "_view_count": null,
            "flex_flow": null,
            "width": null,
            "min_width": null,
            "border": null,
            "align_items": null,
            "bottom": null,
            "_model_module": "@jupyter-widgets/base",
            "top": null,
            "grid_column": null,
            "overflow_y": null,
            "overflow_x": null,
            "grid_auto_flow": null,
            "grid_area": null,
            "grid_template_columns": null,
            "flex": null,
            "_model_name": "LayoutModel",
            "justify_items": null,
            "grid_row": null,
            "max_height": null,
            "align_content": null,
            "visibility": null,
            "align_self": null,
            "height": null,
            "min_height": null,
            "padding": null,
            "grid_auto_rows": null,
            "grid_gap": null,
            "max_width": null,
            "order": null,
            "_view_module_version": "1.2.0",
            "grid_template_areas": null,
            "object_position": null,
            "object_fit": null,
            "grid_auto_columns": null,
            "margin": null,
            "display": null,
            "left": null
          }
        },
        "6d059249bb49433bb9925d7ad93b2432": {
          "model_module": "@jupyter-widgets/controls",
          "model_name": "DescriptionStyleModel",
          "state": {
            "_view_name": "StyleView",
            "_model_name": "DescriptionStyleModel",
            "description_width": "",
            "_view_module": "@jupyter-widgets/base",
            "_model_module_version": "1.5.0",
            "_view_count": null,
            "_view_module_version": "1.2.0",
            "_model_module": "@jupyter-widgets/controls"
          }
        },
        "38923890a6ac4879ba5e411207595c3e": {
          "model_module": "@jupyter-widgets/base",
          "model_name": "LayoutModel",
          "state": {
            "_view_name": "LayoutView",
            "grid_template_rows": null,
            "right": null,
            "justify_content": null,
            "_view_module": "@jupyter-widgets/base",
            "overflow": null,
            "_model_module_version": "1.2.0",
            "_view_count": null,
            "flex_flow": null,
            "width": null,
            "min_width": null,
            "border": null,
            "align_items": null,
            "bottom": null,
            "_model_module": "@jupyter-widgets/base",
            "top": null,
            "grid_column": null,
            "overflow_y": null,
            "overflow_x": null,
            "grid_auto_flow": null,
            "grid_area": null,
            "grid_template_columns": null,
            "flex": null,
            "_model_name": "LayoutModel",
            "justify_items": null,
            "grid_row": null,
            "max_height": null,
            "align_content": null,
            "visibility": null,
            "align_self": null,
            "height": null,
            "min_height": null,
            "padding": null,
            "grid_auto_rows": null,
            "grid_gap": null,
            "max_width": null,
            "order": null,
            "_view_module_version": "1.2.0",
            "grid_template_areas": null,
            "object_position": null,
            "object_fit": null,
            "grid_auto_columns": null,
            "margin": null,
            "display": null,
            "left": null
          }
        },
        "0dde9672fdcb47a5803a4e6f57210e91": {
          "model_module": "@jupyter-widgets/controls",
          "model_name": "HBoxModel",
          "state": {
            "_view_name": "HBoxView",
            "_dom_classes": [],
            "_model_name": "HBoxModel",
            "_view_module": "@jupyter-widgets/controls",
            "_model_module_version": "1.5.0",
            "_view_count": null,
            "_view_module_version": "1.5.0",
            "box_style": "",
            "layout": "IPY_MODEL_a999b71d9bfb49ee8e56b00adf5c0b1c",
            "_model_module": "@jupyter-widgets/controls",
            "children": [
              "IPY_MODEL_124385ae90744799956920eaa36475e2",
              "IPY_MODEL_f187a415b2b747b7b335b07b4a6a4c86"
            ]
          }
        },
        "a999b71d9bfb49ee8e56b00adf5c0b1c": {
          "model_module": "@jupyter-widgets/base",
          "model_name": "LayoutModel",
          "state": {
            "_view_name": "LayoutView",
            "grid_template_rows": null,
            "right": null,
            "justify_content": null,
            "_view_module": "@jupyter-widgets/base",
            "overflow": null,
            "_model_module_version": "1.2.0",
            "_view_count": null,
            "flex_flow": null,
            "width": null,
            "min_width": null,
            "border": null,
            "align_items": null,
            "bottom": null,
            "_model_module": "@jupyter-widgets/base",
            "top": null,
            "grid_column": null,
            "overflow_y": null,
            "overflow_x": null,
            "grid_auto_flow": null,
            "grid_area": null,
            "grid_template_columns": null,
            "flex": null,
            "_model_name": "LayoutModel",
            "justify_items": null,
            "grid_row": null,
            "max_height": null,
            "align_content": null,
            "visibility": null,
            "align_self": null,
            "height": null,
            "min_height": null,
            "padding": null,
            "grid_auto_rows": null,
            "grid_gap": null,
            "max_width": null,
            "order": null,
            "_view_module_version": "1.2.0",
            "grid_template_areas": null,
            "object_position": null,
            "object_fit": null,
            "grid_auto_columns": null,
            "margin": null,
            "display": null,
            "left": null
          }
        },
        "124385ae90744799956920eaa36475e2": {
          "model_module": "@jupyter-widgets/controls",
          "model_name": "IntProgressModel",
          "state": {
            "_view_name": "ProgressView",
            "style": "IPY_MODEL_b890fd1489bb48e392dbd7e415566e83",
            "_dom_classes": [],
            "description": "",
            "_model_name": "IntProgressModel",
            "bar_style": "success",
            "max": 1,
            "_view_module": "@jupyter-widgets/controls",
            "_model_module_version": "1.5.0",
            "value": 1,
            "_view_count": null,
            "_view_module_version": "1.5.0",
            "orientation": "horizontal",
            "min": 0,
            "description_tooltip": null,
            "_model_module": "@jupyter-widgets/controls",
            "layout": "IPY_MODEL_75340eaee99a4fe385772f645500805a"
          }
        },
        "f187a415b2b747b7b335b07b4a6a4c86": {
          "model_module": "@jupyter-widgets/controls",
          "model_name": "HTMLModel",
          "state": {
            "_view_name": "HTMLView",
            "style": "IPY_MODEL_90f037eed24748e782b9fb036257edd4",
            "_dom_classes": [],
            "description": "",
            "_model_name": "HTMLModel",
            "placeholder": "​",
            "_view_module": "@jupyter-widgets/controls",
            "_model_module_version": "1.5.0",
            "value": " 1654784/? [00:02&lt;00:00, 669603.68it/s]",
            "_view_count": null,
            "_view_module_version": "1.5.0",
            "description_tooltip": null,
            "_model_module": "@jupyter-widgets/controls",
            "layout": "IPY_MODEL_03c247ab515144cc9ffbbfecc68f351e"
          }
        },
        "b890fd1489bb48e392dbd7e415566e83": {
          "model_module": "@jupyter-widgets/controls",
          "model_name": "ProgressStyleModel",
          "state": {
            "_view_name": "StyleView",
            "_model_name": "ProgressStyleModel",
            "description_width": "initial",
            "_view_module": "@jupyter-widgets/base",
            "_model_module_version": "1.5.0",
            "_view_count": null,
            "_view_module_version": "1.2.0",
            "bar_color": null,
            "_model_module": "@jupyter-widgets/controls"
          }
        },
        "75340eaee99a4fe385772f645500805a": {
          "model_module": "@jupyter-widgets/base",
          "model_name": "LayoutModel",
          "state": {
            "_view_name": "LayoutView",
            "grid_template_rows": null,
            "right": null,
            "justify_content": null,
            "_view_module": "@jupyter-widgets/base",
            "overflow": null,
            "_model_module_version": "1.2.0",
            "_view_count": null,
            "flex_flow": null,
            "width": null,
            "min_width": null,
            "border": null,
            "align_items": null,
            "bottom": null,
            "_model_module": "@jupyter-widgets/base",
            "top": null,
            "grid_column": null,
            "overflow_y": null,
            "overflow_x": null,
            "grid_auto_flow": null,
            "grid_area": null,
            "grid_template_columns": null,
            "flex": null,
            "_model_name": "LayoutModel",
            "justify_items": null,
            "grid_row": null,
            "max_height": null,
            "align_content": null,
            "visibility": null,
            "align_self": null,
            "height": null,
            "min_height": null,
            "padding": null,
            "grid_auto_rows": null,
            "grid_gap": null,
            "max_width": null,
            "order": null,
            "_view_module_version": "1.2.0",
            "grid_template_areas": null,
            "object_position": null,
            "object_fit": null,
            "grid_auto_columns": null,
            "margin": null,
            "display": null,
            "left": null
          }
        },
        "90f037eed24748e782b9fb036257edd4": {
          "model_module": "@jupyter-widgets/controls",
          "model_name": "DescriptionStyleModel",
          "state": {
            "_view_name": "StyleView",
            "_model_name": "DescriptionStyleModel",
            "description_width": "",
            "_view_module": "@jupyter-widgets/base",
            "_model_module_version": "1.5.0",
            "_view_count": null,
            "_view_module_version": "1.2.0",
            "_model_module": "@jupyter-widgets/controls"
          }
        },
        "03c247ab515144cc9ffbbfecc68f351e": {
          "model_module": "@jupyter-widgets/base",
          "model_name": "LayoutModel",
          "state": {
            "_view_name": "LayoutView",
            "grid_template_rows": null,
            "right": null,
            "justify_content": null,
            "_view_module": "@jupyter-widgets/base",
            "overflow": null,
            "_model_module_version": "1.2.0",
            "_view_count": null,
            "flex_flow": null,
            "width": null,
            "min_width": null,
            "border": null,
            "align_items": null,
            "bottom": null,
            "_model_module": "@jupyter-widgets/base",
            "top": null,
            "grid_column": null,
            "overflow_y": null,
            "overflow_x": null,
            "grid_auto_flow": null,
            "grid_area": null,
            "grid_template_columns": null,
            "flex": null,
            "_model_name": "LayoutModel",
            "justify_items": null,
            "grid_row": null,
            "max_height": null,
            "align_content": null,
            "visibility": null,
            "align_self": null,
            "height": null,
            "min_height": null,
            "padding": null,
            "grid_auto_rows": null,
            "grid_gap": null,
            "max_width": null,
            "order": null,
            "_view_module_version": "1.2.0",
            "grid_template_areas": null,
            "object_position": null,
            "object_fit": null,
            "grid_auto_columns": null,
            "margin": null,
            "display": null,
            "left": null
          }
        },
        "732937050cfc450c956cc6931d206c43": {
          "model_module": "@jupyter-widgets/controls",
          "model_name": "HBoxModel",
          "state": {
            "_view_name": "HBoxView",
            "_dom_classes": [],
            "_model_name": "HBoxModel",
            "_view_module": "@jupyter-widgets/controls",
            "_model_module_version": "1.5.0",
            "_view_count": null,
            "_view_module_version": "1.5.0",
            "box_style": "",
            "layout": "IPY_MODEL_3dcf6673b8844b5a83157b787b1f3507",
            "_model_module": "@jupyter-widgets/controls",
            "children": [
              "IPY_MODEL_3d8613f1c2d049e79db7ff86cf16b8c8",
              "IPY_MODEL_c2dbc72996864c66969d2fc7794c609d"
            ]
          }
        },
        "3dcf6673b8844b5a83157b787b1f3507": {
          "model_module": "@jupyter-widgets/base",
          "model_name": "LayoutModel",
          "state": {
            "_view_name": "LayoutView",
            "grid_template_rows": null,
            "right": null,
            "justify_content": null,
            "_view_module": "@jupyter-widgets/base",
            "overflow": null,
            "_model_module_version": "1.2.0",
            "_view_count": null,
            "flex_flow": null,
            "width": null,
            "min_width": null,
            "border": null,
            "align_items": null,
            "bottom": null,
            "_model_module": "@jupyter-widgets/base",
            "top": null,
            "grid_column": null,
            "overflow_y": null,
            "overflow_x": null,
            "grid_auto_flow": null,
            "grid_area": null,
            "grid_template_columns": null,
            "flex": null,
            "_model_name": "LayoutModel",
            "justify_items": null,
            "grid_row": null,
            "max_height": null,
            "align_content": null,
            "visibility": null,
            "align_self": null,
            "height": null,
            "min_height": null,
            "padding": null,
            "grid_auto_rows": null,
            "grid_gap": null,
            "max_width": null,
            "order": null,
            "_view_module_version": "1.2.0",
            "grid_template_areas": null,
            "object_position": null,
            "object_fit": null,
            "grid_auto_columns": null,
            "margin": null,
            "display": null,
            "left": null
          }
        },
        "3d8613f1c2d049e79db7ff86cf16b8c8": {
          "model_module": "@jupyter-widgets/controls",
          "model_name": "IntProgressModel",
          "state": {
            "_view_name": "ProgressView",
            "style": "IPY_MODEL_fc4928297fce480583ed5526bfc1ced4",
            "_dom_classes": [],
            "description": "",
            "_model_name": "IntProgressModel",
            "bar_style": "success",
            "max": 1,
            "_view_module": "@jupyter-widgets/controls",
            "_model_module_version": "1.5.0",
            "value": 1,
            "_view_count": null,
            "_view_module_version": "1.5.0",
            "orientation": "horizontal",
            "min": 0,
            "description_tooltip": null,
            "_model_module": "@jupyter-widgets/controls",
            "layout": "IPY_MODEL_3d45d5bb4e4d4f028032edcc87153a91"
          }
        },
        "c2dbc72996864c66969d2fc7794c609d": {
          "model_module": "@jupyter-widgets/controls",
          "model_name": "HTMLModel",
          "state": {
            "_view_name": "HTMLView",
            "style": "IPY_MODEL_829f35095c404a6bbd8d86715be08959",
            "_dom_classes": [],
            "description": "",
            "_model_name": "HTMLModel",
            "placeholder": "​",
            "_view_module": "@jupyter-widgets/controls",
            "_model_module_version": "1.5.0",
            "value": " 8192/? [00:00&lt;00:00, 12843.21it/s]",
            "_view_count": null,
            "_view_module_version": "1.5.0",
            "description_tooltip": null,
            "_model_module": "@jupyter-widgets/controls",
            "layout": "IPY_MODEL_d440aebb18544744b2617d7fb067afc7"
          }
        },
        "fc4928297fce480583ed5526bfc1ced4": {
          "model_module": "@jupyter-widgets/controls",
          "model_name": "ProgressStyleModel",
          "state": {
            "_view_name": "StyleView",
            "_model_name": "ProgressStyleModel",
            "description_width": "initial",
            "_view_module": "@jupyter-widgets/base",
            "_model_module_version": "1.5.0",
            "_view_count": null,
            "_view_module_version": "1.2.0",
            "bar_color": null,
            "_model_module": "@jupyter-widgets/controls"
          }
        },
        "3d45d5bb4e4d4f028032edcc87153a91": {
          "model_module": "@jupyter-widgets/base",
          "model_name": "LayoutModel",
          "state": {
            "_view_name": "LayoutView",
            "grid_template_rows": null,
            "right": null,
            "justify_content": null,
            "_view_module": "@jupyter-widgets/base",
            "overflow": null,
            "_model_module_version": "1.2.0",
            "_view_count": null,
            "flex_flow": null,
            "width": null,
            "min_width": null,
            "border": null,
            "align_items": null,
            "bottom": null,
            "_model_module": "@jupyter-widgets/base",
            "top": null,
            "grid_column": null,
            "overflow_y": null,
            "overflow_x": null,
            "grid_auto_flow": null,
            "grid_area": null,
            "grid_template_columns": null,
            "flex": null,
            "_model_name": "LayoutModel",
            "justify_items": null,
            "grid_row": null,
            "max_height": null,
            "align_content": null,
            "visibility": null,
            "align_self": null,
            "height": null,
            "min_height": null,
            "padding": null,
            "grid_auto_rows": null,
            "grid_gap": null,
            "max_width": null,
            "order": null,
            "_view_module_version": "1.2.0",
            "grid_template_areas": null,
            "object_position": null,
            "object_fit": null,
            "grid_auto_columns": null,
            "margin": null,
            "display": null,
            "left": null
          }
        },
        "829f35095c404a6bbd8d86715be08959": {
          "model_module": "@jupyter-widgets/controls",
          "model_name": "DescriptionStyleModel",
          "state": {
            "_view_name": "StyleView",
            "_model_name": "DescriptionStyleModel",
            "description_width": "",
            "_view_module": "@jupyter-widgets/base",
            "_model_module_version": "1.5.0",
            "_view_count": null,
            "_view_module_version": "1.2.0",
            "_model_module": "@jupyter-widgets/controls"
          }
        },
        "d440aebb18544744b2617d7fb067afc7": {
          "model_module": "@jupyter-widgets/base",
          "model_name": "LayoutModel",
          "state": {
            "_view_name": "LayoutView",
            "grid_template_rows": null,
            "right": null,
            "justify_content": null,
            "_view_module": "@jupyter-widgets/base",
            "overflow": null,
            "_model_module_version": "1.2.0",
            "_view_count": null,
            "flex_flow": null,
            "width": null,
            "min_width": null,
            "border": null,
            "align_items": null,
            "bottom": null,
            "_model_module": "@jupyter-widgets/base",
            "top": null,
            "grid_column": null,
            "overflow_y": null,
            "overflow_x": null,
            "grid_auto_flow": null,
            "grid_area": null,
            "grid_template_columns": null,
            "flex": null,
            "_model_name": "LayoutModel",
            "justify_items": null,
            "grid_row": null,
            "max_height": null,
            "align_content": null,
            "visibility": null,
            "align_self": null,
            "height": null,
            "min_height": null,
            "padding": null,
            "grid_auto_rows": null,
            "grid_gap": null,
            "max_width": null,
            "order": null,
            "_view_module_version": "1.2.0",
            "grid_template_areas": null,
            "object_position": null,
            "object_fit": null,
            "grid_auto_columns": null,
            "margin": null,
            "display": null,
            "left": null
          }
        }
      }
    }
  },
  "cells": [
    {
      "cell_type": "code",
      "metadata": {
        "id": "Qq62ApmFprGX",
        "colab_type": "code",
        "colab": {}
      },
      "source": [
        "import os\n",
        "from collections import namedtuple\n",
        "\n",
        "import matplotlib.pyplot as plt\n",
        "import numpy as np\n",
        "import torch\n",
        "import torch.nn as nn\n",
        "import torchvision as tv\n",
        "import tqdm\n",
        "from scipy.optimize import Bounds, minimize\n",
        "from torch import optim\n",
        "from torch.autograd import Variable\n",
        "from torch.functional import F\n",
        "from torch.utils.data import DataLoader, Dataset, TensorDataset, random_split\n",
        "from torchvision import datasets, transforms"
      ],
      "execution_count": 0,
      "outputs": []
    },
    {
      "cell_type": "markdown",
      "metadata": {
        "id": "6hL92AAAprGa",
        "colab_type": "text"
      },
      "source": [
        "# Week 14:  Intriguing Properties of Neural Networks\n",
        "There are two types of adversarial models that we will create. First, we will reproduce some of the results of Szegedy via targeted misclassifications, and also test the cross-model susceptibility.  An optional second section explores the development of a different method for generating adversarial examples called the Fast Gradient Sign Method.\n",
        "\n",
        "### Part 1: Targeted Examples\n",
        "\n",
        "Now we will find inputs that will cause the network to mispredict in such a way that it outputs what we want it to."
      ]
    },
    {
      "cell_type": "code",
      "metadata": {
        "id": "2ukcMFMRprGa",
        "colab_type": "code",
        "colab": {}
      },
      "source": [
        "Config = namedtuple(\n",
        "    \"Config\",\n",
        "    (\n",
        "        \"batch_size\",\n",
        "        \"epochs\",\n",
        "        \"lr\",\n",
        "        \"lr_gamma\",\n",
        "        \"input_size\",\n",
        "        \"output_size\",\n",
        "        \"w_decay\",\n",
        "        \"r_weight\",\n",
        "        \"device\",\n",
        "    )\n",
        ")\n",
        "\n",
        "device = \"cuda\"\n",
        "\n",
        "config = Config(\n",
        "    batch_size=64,\n",
        "    epochs=25,\n",
        "    # Learning rate\n",
        "    lr=1e-4,\n",
        "    # Learning rate decay factor\n",
        "    lr_gamma=0.88,\n",
        "    input_size=28*28,\n",
        "    output_size=10,\n",
        "    # L2 regularization strength\n",
        "    w_decay=1e-4,\n",
        "    # c from section 4.1 of the paper\n",
        "    r_weight=0.15,\n",
        "    device=device,\n",
        ")"
      ],
      "execution_count": 0,
      "outputs": []
    },
    {
      "cell_type": "markdown",
      "metadata": {
        "id": "tchAkN7KprGd",
        "colab_type": "text"
      },
      "source": [
        "### Data\n",
        "\n",
        "We'll use the full MNIST datasets for training and testing."
      ]
    },
    {
      "cell_type": "code",
      "metadata": {
        "id": "2fc16TscprGe",
        "colab_type": "code",
        "colab": {
          "base_uri": "https://localhost:8080/",
          "height": 352,
          "referenced_widgets": [
            "0f91b17ed1544d52979ccf724a8f5c0b",
            "ebb76e773cb1446d8c6059168458eb4b",
            "dfd1d70161954fe7a884d21e07044275",
            "c013c35207704dd6a22e98fd36a891eb",
            "4b71c8bc718c40bfb57393c72a9882ab",
            "ba4be37461c24d0e9524794342bd9f51",
            "47bce4ac279c403399f9fcd23b9edf94",
            "89fd5d2a3437491488a90aac055fba68",
            "4ee780628df945e0aa1d926d46e80b6b",
            "6ce8ef8bafaa49c7be11fa96fd9a796c",
            "6d8612d907b3432eb17dacd7c13354c4",
            "540ab0765b734ab4a27a14608c7015c6",
            "4f1f99bca7a248c598777583da074174",
            "8591792b9e7246dd8a47ad2be8624a77",
            "6d059249bb49433bb9925d7ad93b2432",
            "38923890a6ac4879ba5e411207595c3e",
            "0dde9672fdcb47a5803a4e6f57210e91",
            "a999b71d9bfb49ee8e56b00adf5c0b1c",
            "124385ae90744799956920eaa36475e2",
            "f187a415b2b747b7b335b07b4a6a4c86",
            "b890fd1489bb48e392dbd7e415566e83",
            "75340eaee99a4fe385772f645500805a",
            "90f037eed24748e782b9fb036257edd4",
            "03c247ab515144cc9ffbbfecc68f351e",
            "732937050cfc450c956cc6931d206c43",
            "3dcf6673b8844b5a83157b787b1f3507",
            "3d8613f1c2d049e79db7ff86cf16b8c8",
            "c2dbc72996864c66969d2fc7794c609d",
            "fc4928297fce480583ed5526bfc1ced4",
            "3d45d5bb4e4d4f028032edcc87153a91",
            "829f35095c404a6bbd8d86715be08959",
            "d440aebb18544744b2617d7fb067afc7"
          ]
        },
        "outputId": "e711f8d8-953a-4ddc-c6cf-e2bff0ee7da6"
      },
      "source": [
        "os.makedirs(\"./data\", exist_ok=True)\n",
        "# MNIST Datasets\n",
        "train_ds = tv.datasets.MNIST(\n",
        "    \"./data\",\n",
        "    transform=tv.transforms.ToTensor(),\n",
        "    train=True,\n",
        "    download=True\n",
        ")\n",
        "test_ds = tv.datasets.MNIST(\n",
        "    \"./data\",\n",
        "    transform=tv.transforms.ToTensor(),\n",
        "    train=False,\n",
        ")\n",
        "# MNIST Data Loaders\n",
        "train_dl = torch.utils.data.DataLoader(\n",
        "    train_ds,\n",
        "    batch_size=config.batch_size,\n",
        "    drop_last=True,\n",
        "    shuffle=True,\n",
        "    num_workers=4,\n",
        ")\n",
        "test_dl = torch.utils.data.DataLoader(\n",
        "    test_ds,\n",
        "    batch_size=config.batch_size,\n",
        "    shuffle=True\n",
        ")"
      ],
      "execution_count": 3,
      "outputs": [
        {
          "output_type": "stream",
          "text": [
            "Downloading http://yann.lecun.com/exdb/mnist/train-images-idx3-ubyte.gz to ./data/MNIST/raw/train-images-idx3-ubyte.gz\n"
          ],
          "name": "stdout"
        },
        {
          "output_type": "display_data",
          "data": {
            "application/vnd.jupyter.widget-view+json": {
              "model_id": "0f91b17ed1544d52979ccf724a8f5c0b",
              "version_minor": 0,
              "version_major": 2
            },
            "text/plain": [
              "HBox(children=(IntProgress(value=1, bar_style='info', max=1), HTML(value='')))"
            ]
          },
          "metadata": {
            "tags": []
          }
        },
        {
          "output_type": "stream",
          "text": [
            "Extracting ./data/MNIST/raw/train-images-idx3-ubyte.gz to ./data/MNIST/raw\n",
            "Downloading http://yann.lecun.com/exdb/mnist/train-labels-idx1-ubyte.gz to ./data/MNIST/raw/train-labels-idx1-ubyte.gz\n"
          ],
          "name": "stdout"
        },
        {
          "output_type": "display_data",
          "data": {
            "application/vnd.jupyter.widget-view+json": {
              "model_id": "4ee780628df945e0aa1d926d46e80b6b",
              "version_minor": 0,
              "version_major": 2
            },
            "text/plain": [
              "HBox(children=(IntProgress(value=1, bar_style='info', max=1), HTML(value='')))"
            ]
          },
          "metadata": {
            "tags": []
          }
        },
        {
          "output_type": "stream",
          "text": [
            "Extracting ./data/MNIST/raw/train-labels-idx1-ubyte.gz to ./data/MNIST/raw\n",
            "Downloading http://yann.lecun.com/exdb/mnist/t10k-images-idx3-ubyte.gz to ./data/MNIST/raw/t10k-images-idx3-ubyte.gz\n"
          ],
          "name": "stdout"
        },
        {
          "output_type": "display_data",
          "data": {
            "application/vnd.jupyter.widget-view+json": {
              "model_id": "0dde9672fdcb47a5803a4e6f57210e91",
              "version_minor": 0,
              "version_major": 2
            },
            "text/plain": [
              "HBox(children=(IntProgress(value=1, bar_style='info', max=1), HTML(value='')))"
            ]
          },
          "metadata": {
            "tags": []
          }
        },
        {
          "output_type": "stream",
          "text": [
            "Extracting ./data/MNIST/raw/t10k-images-idx3-ubyte.gz to ./data/MNIST/raw\n",
            "Downloading http://yann.lecun.com/exdb/mnist/t10k-labels-idx1-ubyte.gz to ./data/MNIST/raw/t10k-labels-idx1-ubyte.gz\n"
          ],
          "name": "stdout"
        },
        {
          "output_type": "display_data",
          "data": {
            "application/vnd.jupyter.widget-view+json": {
              "model_id": "732937050cfc450c956cc6931d206c43",
              "version_minor": 0,
              "version_major": 2
            },
            "text/plain": [
              "HBox(children=(IntProgress(value=1, bar_style='info', max=1), HTML(value='')))"
            ]
          },
          "metadata": {
            "tags": []
          }
        },
        {
          "output_type": "stream",
          "text": [
            "Extracting ./data/MNIST/raw/t10k-labels-idx1-ubyte.gz to ./data/MNIST/raw\n",
            "Processing...\n",
            "Done!\n"
          ],
          "name": "stdout"
        },
        {
          "output_type": "stream",
          "text": [
            "/pytorch/torch/csrc/utils/tensor_numpy.cpp:141: UserWarning: The given NumPy array is not writeable, and PyTorch does not support non-writeable tensors. This means you can write to the underlying (supposedly non-writeable) NumPy array using the tensor. You may want to copy the array to protect its data or make it writeable before converting it to a tensor. This type of warning will be suppressed for the rest of this program.\n"
          ],
          "name": "stderr"
        }
      ]
    },
    {
      "cell_type": "markdown",
      "metadata": {
        "id": "U-BhZ8HNprGi",
        "colab_type": "text"
      },
      "source": [
        "### Helpers\n",
        "\n",
        "These are some helper functions that you don't need to worry about"
      ]
    },
    {
      "cell_type": "code",
      "metadata": {
        "id": "_sNena9MprGi",
        "colab_type": "code",
        "colab": {
          "base_uri": "https://localhost:8080/",
          "height": 51
        },
        "outputId": "5bf01d2e-0f88-49a9-9e92-d1b622e3bed7"
      },
      "source": [
        "def train(model, opt, loss_func, loader, config, epoch):\n",
        "    it = tqdm.tqdm(loader, ncols=80, desc=f\"train: {epoch + 1}/{config.epochs}\")\n",
        "    for imgs, targets in it:\n",
        "        model.train()\n",
        "        opt.zero_grad()\n",
        "        imgs = imgs.to(config.device).double()\n",
        "        targets = targets.to(config.device)\n",
        "        out = model(imgs)\n",
        "        loss = loss_func(out, targets)\n",
        "        loss.backward()\n",
        "        opt.step()\n",
        "        \n",
        "        \n",
        "def test(model, loader, config):\n",
        "    correct = 0\n",
        "    for imgs, targets in tqdm.tqdm(loader, ncols=80, desc=\"Test\"):\n",
        "        model.eval()\n",
        "        imgs = imgs.to(config.device).double()\n",
        "        targets = targets.to(config.device)\n",
        "        with torch.no_grad():\n",
        "            out = model(imgs)\n",
        "            pred = logits_to_label(out)\n",
        "            correct += (pred == targets).sum()\n",
        "    N = len(loader.dataset)\n",
        "    acc = float(correct) / N\n",
        "    print(f\"Test acc: {acc:.02%}\")\n",
        "\n",
        "    \n",
        "def fetch_trained_model(model_class, train_loader, test_loader, load_from_file, path, config):\n",
        "    \"\"\"Either fetch a stored model from disk or train one from scratch\"\"\"\n",
        "    model = model_class(config).double().to(config.device)\n",
        "    if os.path.isfile(path) and load_from_file:\n",
        "        model.load_state_dict(torch.load(path))\n",
        "        test(model, test_loader, config)\n",
        "    else:\n",
        "        opt = torch.optim.Adam(model.parameters(), config.lr, weight_decay=config.w_decay)\n",
        "        # Learning rate adjuster\n",
        "        sched = torch.optim.lr_scheduler.StepLR(opt, 1, config.lr_gamma)\n",
        "        criterion = nn.CrossEntropyLoss()\n",
        "\n",
        "        for ep in range(config.epochs):\n",
        "            train(model, opt, criterion, train_loader, config, ep)\n",
        "            test(model, test_loader, config)\n",
        "            sched.step()\n",
        "        torch.save(model.state_dict(), path)\n",
        "    model.eval()\n",
        "    print(model)\n",
        "    return model"
      ],
      "execution_count": 4,
      "outputs": [
        {
          "output_type": "stream",
          "text": [
            "\n",
            "\n"
          ],
          "name": "stdout"
        }
      ]
    },
    {
      "cell_type": "markdown",
      "metadata": {
        "id": "rTNFS31dprGk",
        "colab_type": "text"
      },
      "source": [
        "### Model\n",
        "We'll use one of the fully connected models from the paper."
      ]
    },
    {
      "cell_type": "code",
      "metadata": {
        "id": "3sx1rYxxprGl",
        "colab_type": "code",
        "colab": {}
      },
      "source": [
        "def logits_to_label(logits):\n",
        "    \"\"\"\n",
        "    Converts the logits or log-odds output of the networks\n",
        "    to a class label.\n",
        "    \"\"\"\n",
        "    return torch.softmax(logits, 1).argmax(1)\n",
        "\n",
        "\n",
        "class FCNet100(nn.Module):\n",
        "    \"\"\"The FC100-100-10 network from the paper\"\"\"\n",
        "\n",
        "    def __init__(self, config):\n",
        "        super(FCNet100, self).__init__()\n",
        "        self.config = config\n",
        "        self.model = nn.Sequential(\n",
        "            nn.Linear(config.input_size, 100),\n",
        "            nn.LeakyReLU(0.1, inplace=True),\n",
        "            \n",
        "            nn.Linear(100, 100),\n",
        "            nn.LeakyReLU(0.1, inplace=True),\n",
        "            \n",
        "            nn.Linear(100, config.output_size),\n",
        "        )\n",
        "        # Note that softmax is left out of the model on purpose.\n",
        "    \n",
        "    def forward(self, x):\n",
        "        if isinstance(x, np.ndarray):\n",
        "            x = torch.tensor(x).to(self.config.device)\n",
        "        x = x.view(x.size(0), self.config.input_size)\n",
        "        # Logits\n",
        "        return self.model(x)"
      ],
      "execution_count": 0,
      "outputs": []
    },
    {
      "cell_type": "markdown",
      "metadata": {
        "id": "AIySRS6TprGn",
        "colab_type": "text"
      },
      "source": [
        "For convenience, a pre-trained set of weights are included in this repository at './data/model_1.pt'.\n",
        "The code below will load them for you. Pass `False` to the `load` argument to train a fresh version\n",
        "of the model. Note that `double()` has been called on the model so that all of the weights are 64-bit floats\n",
        "and the model is expecting 64-bit float inputs. The model will also produce 64-bit floats as outputs.\n",
        "This last part is why `double()` is called and is important later."
      ]
    },
    {
      "cell_type": "code",
      "metadata": {
        "scrolled": true,
        "id": "gPzz7BKhprGo",
        "colab_type": "code",
        "colab": {
          "base_uri": "https://localhost:8080/",
          "height": 204
        },
        "outputId": "88f3a142-fb02-4790-bde5-76afb911b767"
      },
      "source": [
        "# Load our first model from disk or train a fresh one\n",
        "model = fetch_trained_model(\n",
        "    FCNet100,\n",
        "    train_dl,\n",
        "    test_dl,\n",
        "    True,\n",
        "    \"./data/model_1.pt\",\n",
        "    config\n",
        ")"
      ],
      "execution_count": 6,
      "outputs": [
        {
          "output_type": "stream",
          "text": [
            "Test: 100%|██████████████████████████████████| 157/157 [00:00<00:00, 185.99it/s]"
          ],
          "name": "stderr"
        },
        {
          "output_type": "stream",
          "text": [
            "Test acc: 94.44%\n",
            "FCNet100(\n",
            "  (model): Sequential(\n",
            "    (0): Linear(in_features=784, out_features=100, bias=True)\n",
            "    (1): LeakyReLU(negative_slope=0.1, inplace=True)\n",
            "    (2): Linear(in_features=100, out_features=100, bias=True)\n",
            "    (3): LeakyReLU(negative_slope=0.1, inplace=True)\n",
            "    (4): Linear(in_features=100, out_features=10, bias=True)\n",
            "  )\n",
            ")\n"
          ],
          "name": "stdout"
        },
        {
          "output_type": "stream",
          "text": [
            "\n"
          ],
          "name": "stderr"
        }
      ]
    },
    {
      "cell_type": "markdown",
      "metadata": {
        "id": "e6HkkzslprGr",
        "colab_type": "text"
      },
      "source": [
        "## Finding Adversarial Examples\n",
        "\n",
        "The two functions below are used to find targeted examples. Together these make up the algorithm\n",
        "descriibed in Section 4.1 of the paper:\n",
        "\n",
        "$$\\textrm{minimize} \\quad c \\left\\lvert r \\right\\rvert + \\textrm{loss}_f(x + r, l)$$\n",
        "with $$x + r \\in [0, 1]^m$$"
      ]
    },
    {
      "cell_type": "code",
      "metadata": {
        "id": "bm0aOCx7prGr",
        "colab_type": "code",
        "colab": {}
      },
      "source": [
        "class TorchGradientCalculator:\n",
        "    def __init__(self,x_initial,net,c,target,device):\n",
        "        self.net = net\n",
        "        self.target = target\n",
        "        self.device = device\n",
        "        self.c = c\n",
        "        self.x_initial = torch.tensor(x_initial.reshape(1, 28, 28)).to(device)\n",
        "        self.cost = None\n",
        "        self.g = None\n",
        "        \n",
        "    def _F(self,x_plus_r):\n",
        "        x_plus_r_tensor = torch.tensor(x_plus_r.reshape(1, 28, 28),requires_grad=True).to(device)\n",
        "        logits = self.net(x_plus_r_tensor)\n",
        "        class_penalty = nn.functional.cross_entropy(logits, self.target)\n",
        "        size_penalty = self.c * torch.norm(x_plus_r_tensor - self.x_initial, 2)\n",
        "        self.cost = class_penalty + size_penalty\n",
        "        self.g = torch.autograd.grad(self.cost,x_plus_r_tensor)[0]\n",
        "        return self.cost.detach().cpu().numpy()\n",
        "    \n",
        "    def _G(self,x_plus_r):\n",
        "        return self.g.detach().cpu().numpy().ravel()"
      ],
      "execution_count": 0,
      "outputs": []
    },
    {
      "cell_type": "code",
      "metadata": {
        "id": "vK89H0WkprGt",
        "colab_type": "code",
        "colab": {}
      },
      "source": [
        "def find_adversarial_example(\n",
        "    net, x, target, config, max_iterations=45_000, max_penalty_function_calls=45_000\n",
        "):\n",
        "    \"\"\"This is the optimization problem described in Section 4.1\"\"\"\n",
        "    # The c weight for the L1 norm of r\n",
        "    c = config.r_weight\n",
        "    # Box constraint: [0, 1]^m\n",
        "    box_constraint = Bounds(np.zeros_like(x.ravel()), np.ones_like(x.ravel()))\n",
        "    # Target label as tensor\n",
        "    target = torch.tensor([target]).to(config.device, dtype=torch.int64)\n",
        "    # Args that will be passed to the penalty function in addition to the (x + r) array.\n",
        "    args = (x.flatten(), net, c, target, device)\n",
        "    #\n",
        "    # TODO: What should the initial guess for x+r be?\n",
        "    #\n",
        "    x_plus_r_initial = x\n",
        "    \n",
        "    tgc = TorchGradientCalculator(*args)\n",
        "    \n",
        "    # minimize will be calling the penalty function, and in turn the model, a LOT.\n",
        "    # We use torch.no_grad() to make sure that we don't have the overhead of\n",
        "    # torch's autograd during those calls.\n",
        "\n",
        "    # We'll treat scipy's minimize as a black box and simply use it as a means to an\n",
        "    # end. Below, we have used the recommended settings for \"L-BFGS-B\" from the\n",
        "    # scipy docs.\n",
        "    res = minimize(\n",
        "            # Our penalty function from above\n",
        "            tgc._F,\n",
        "            # Flatten it since minimize only works on a 1D array\n",
        "            x_plus_r_initial.flatten(),\n",
        "            method='L-BFGS-B',\n",
        "            jac=tgc._G,\n",
        "            bounds=box_constraint,\n",
        "            tol=None,\n",
        "            callback=None,\n",
        "            options={\n",
        "                'disp': None,\n",
        "                'maxcor': 10,\n",
        "                'ftol': 2.220446049250313e-09,\n",
        "                'gtol': 1e-05,\n",
        "                # This is the step size used by the numerical optimizer\n",
        "                'eps': 1e-9,\n",
        "                # The maximum number of times the penalty func can be called by minimize\n",
        "                'maxfun': max_penalty_function_calls,\n",
        "                # The maximum number of steps taken by minimize\n",
        "                'maxiter': max_iterations,\n",
        "                'iprint': -1,\n",
        "                'maxls': 15,\n",
        "            }\n",
        "        )\n",
        "    # Reshape back into an image\n",
        "    xr = torch.tensor(res.x.reshape(x.shape))\n",
        "    return xr"
      ],
      "execution_count": 0,
      "outputs": []
    },
    {
      "cell_type": "markdown",
      "metadata": {
        "id": "oxBPKFqxprGw",
        "colab_type": "text"
      },
      "source": [
        "### Starting Images\n",
        "Now we will select some images from the test dataset, which the model hasn't seen, to turn into adversarial\n",
        "examples."
      ]
    },
    {
      "cell_type": "code",
      "metadata": {
        "id": "nTdXK6qtprGw",
        "colab_type": "code",
        "colab": {
          "base_uri": "https://localhost:8080/",
          "height": 567
        },
        "outputId": "f1919500-0206-4ca2-93df-4d875c0a8995"
      },
      "source": [
        "# Select N images that the model correctly classifies already\n",
        "N = 16\n",
        "adv_target = 8\n",
        "x_imgs = []\n",
        "x_labels = []\n",
        "for x, label in test_ds:\n",
        "    if label == adv_target:\n",
        "        continue\n",
        "    x = x.to(config.device).double()\n",
        "    # Make sure that the model correctly classifies this x\n",
        "    if (logits_to_label(model(x)) == label).item():\n",
        "        x_imgs.append(x.cpu())\n",
        "        x_labels.append(label)\n",
        "    if len(x_imgs) >= N:\n",
        "        break\n",
        "\n",
        "x_labels = np.array(x_labels).reshape(4, 4)\n",
        "grid = tv.utils.make_grid(x_imgs, nrow=4, pad_value=1)\n",
        "plt.figure(figsize=(8, 8))\n",
        "plt.title(\"Original Inputs\")\n",
        "plt.imshow(np.transpose(grid, (1, 2, 0)))\n",
        "print(x_labels)"
      ],
      "execution_count": 13,
      "outputs": [
        {
          "output_type": "stream",
          "text": [
            "[[7 2 1 0]\n",
            " [4 1 4 9]\n",
            " [9 0 6 9]\n",
            " [0 1 5 9]]\n"
          ],
          "name": "stdout"
        },
        {
          "output_type": "display_data",
          "data": {
            "image/png": "[encoded data removed]",
            "text/plain": [
              "<Figure size 576x576 with 1 Axes>"
            ]
          },
          "metadata": {
            "tags": [],
            "needs_background": "light"
          }
        }
      ]
    },
    {
      "cell_type": "markdown",
      "metadata": {
        "id": "7V4WoHSQprGz",
        "colab_type": "text"
      },
      "source": [
        "## Creating Adversaries\n",
        "This code will call the functions above to create adverserial examples. Unfortunately, it\n",
        "runs pretty slowly so it can take some time to find them. You can try adjusting\n",
        "the `max_iterations` and `max_penalty_function_calls` parameters of\n",
        "`find_adversarial_example()` to speed things up. Note that if you lower them too far you\n",
        "will produce poor examples that don't fool the network or that have large distortions. You can\n",
        "also adjust c to weight the size of r more or less."
      ]
    },
    {
      "cell_type": "code",
      "metadata": {
        "id": "o5xbZ9CAprG0",
        "colab_type": "code",
        "colab": {
          "base_uri": "https://localhost:8080/",
          "height": 34
        },
        "outputId": "595c5aad-f188-4462-8beb-c2e21655e99b"
      },
      "source": [
        "xr_imgs = []\n",
        "xr_labels = []\n",
        "for x in tqdm.tqdm(x_imgs, ncols=80):\n",
        "    xr = find_adversarial_example(model, x.numpy(), adv_target, config)\n",
        "    xr_imgs.append(xr)\n",
        "    new_label = logits_to_label(model(xr.to(config.device))).item()\n",
        "    xr_labels.append(new_label)\n",
        "xr_labels = np.array(xr_labels).reshape(4, 4)"
      ],
      "execution_count": 14,
      "outputs": [
        {
          "output_type": "stream",
          "text": [
            "100%|███████████████████████████████████████████| 16/16 [00:01<00:00, 12.23it/s]\n"
          ],
          "name": "stderr"
        }
      ]
    },
    {
      "cell_type": "markdown",
      "metadata": {
        "id": "dUkahYwGprG3",
        "colab_type": "text"
      },
      "source": [
        "## Adversarial Results\n",
        "\n",
        "If everything is working properly, all of the new images should be classified as the target class."
      ]
    },
    {
      "cell_type": "code",
      "metadata": {
        "id": "cSR0Plt3prG4",
        "colab_type": "code",
        "colab": {
          "base_uri": "https://localhost:8080/",
          "height": 1000
        },
        "outputId": "073b8d0a-8409-4d17-d15a-16ed950e7872"
      },
      "source": [
        "grid = tv.utils.make_grid(xr_imgs, nrow=4, pad_value=1)\n",
        "plt.figure(figsize=(8, 8))\n",
        "plt.title(\"Adversarial Examples\")\n",
        "plt.imshow(np.transpose(grid, (1, 2, 0)))\n",
        "print(f\"New Labels:\\n{xr_labels}\")\n",
        "\n",
        "# Calculate r = (x + r) - x and display them\n",
        "r_imgs = [xr - x for xr, x in zip(xr_imgs, x_imgs)]\n",
        "grid = tv.utils.make_grid(r_imgs, nrow=4, pad_value=1)\n",
        "plt.figure(figsize=(8, 8))\n",
        "plt.title(\"Adversarial Perturbations\")\n",
        "plt.imshow(np.transpose(grid, (1, 2, 0)))"
      ],
      "execution_count": 15,
      "outputs": [
        {
          "output_type": "stream",
          "text": [
            "Clipping input data to the valid range for imshow with RGB data ([0..1] for floats or [0..255] for integers).\n",
            "Clipping input data to the valid range for imshow with RGB data ([0..1] for floats or [0..255] for integers).\n"
          ],
          "name": "stderr"
        },
        {
          "output_type": "stream",
          "text": [
            "New Labels:\n",
            "[[8 8 8 8]\n",
            " [8 8 8 8]\n",
            " [8 8 8 8]\n",
            " [8 8 8 8]]\n"
          ],
          "name": "stdout"
        },
        {
          "output_type": "execute_result",
          "data": {
            "text/plain": [
              "<matplotlib.image.AxesImage at 0x7ff9c021bef0>"
            ]
          },
          "metadata": {
            "tags": []
          },
          "execution_count": 15
        },
        {
          "output_type": "display_data",
          "data": {
            "image/png": "[encoded data removed]",
            "text/plain": [
              "<Figure size 576x576 with 1 Axes>"
            ]
          },
          "metadata": {
            "tags": [],
            "needs_background": "light"
          }
        },
        {
          "output_type": "display_data",
          "data": {
            "image/png": "[encoded data removed]",
            "text/plain": [
              "<Figure size 576x576 with 1 Axes>"
            ]
          },
          "metadata": {
            "tags": [],
            "needs_background": "light"
          }
        }
      ]
    },
    {
      "cell_type": "markdown",
      "metadata": {
        "id": "oesiZkjiprG6",
        "colab_type": "text"
      },
      "source": [
        "## Cross Network Attack\n",
        "Now we'll try using the examples created using one network to attack another.\n",
        "Below is a model similar to the one used above that has pre-trained weights."
      ]
    },
    {
      "cell_type": "code",
      "metadata": {
        "id": "CxU-5NwuprG6",
        "colab_type": "code",
        "colab": {}
      },
      "source": [
        "class FCNet200(nn.Module):\n",
        "    def __init__(self, config):\n",
        "        super(FCNet200, self).__init__()\n",
        "        self.config = config\n",
        "        self.model = nn.Sequential(\n",
        "            nn.Linear(config.input_size, 200),\n",
        "            nn.LeakyReLU(0.1, inplace=True),\n",
        "            \n",
        "            nn.Linear(200, 200),\n",
        "            nn.LeakyReLU(0.1, inplace=True),\n",
        "            \n",
        "            nn.Linear(200, config.output_size),\n",
        "        )\n",
        "    \n",
        "    def forward(self, x):\n",
        "        if isinstance(x, np.ndarray):\n",
        "            x = torch.tensor(x).to(self.config.device)\n",
        "        x = x.view(x.size(0), self.config.input_size)\n",
        "        # Logits\n",
        "        return self.model(x)"
      ],
      "execution_count": 0,
      "outputs": []
    },
    {
      "cell_type": "markdown",
      "metadata": {
        "id": "Aecgb8-UprG9",
        "colab_type": "text"
      },
      "source": [
        "This loads the pre-trained weights for the model above. If you change the `True` to `False`\n",
        "it will train the model from scratch."
      ]
    },
    {
      "cell_type": "code",
      "metadata": {
        "scrolled": true,
        "id": "IbmKM9IyprG9",
        "colab_type": "code",
        "colab": {
          "base_uri": "https://localhost:8080/",
          "height": 204
        },
        "outputId": "063ddae9-f792-4f4d-e72a-b60c5805bdf4"
      },
      "source": [
        "model2 = fetch_trained_model(\n",
        "    FCNet200,\n",
        "    train_dl,\n",
        "    test_dl,\n",
        "    True,\n",
        "    \"./data/model_2.pt\",\n",
        "    config\n",
        ")"
      ],
      "execution_count": 17,
      "outputs": [
        {
          "output_type": "stream",
          "text": [
            "Test: 100%|██████████████████████████████████| 157/157 [00:00<00:00, 237.23it/s]"
          ],
          "name": "stderr"
        },
        {
          "output_type": "stream",
          "text": [
            "Test acc: 95.98%\n",
            "FCNet200(\n",
            "  (model): Sequential(\n",
            "    (0): Linear(in_features=784, out_features=200, bias=True)\n",
            "    (1): LeakyReLU(negative_slope=0.1, inplace=True)\n",
            "    (2): Linear(in_features=200, out_features=200, bias=True)\n",
            "    (3): LeakyReLU(negative_slope=0.1, inplace=True)\n",
            "    (4): Linear(in_features=200, out_features=10, bias=True)\n",
            "  )\n",
            ")\n"
          ],
          "name": "stdout"
        },
        {
          "output_type": "stream",
          "text": [
            "\n"
          ],
          "name": "stderr"
        }
      ]
    },
    {
      "cell_type": "code",
      "metadata": {
        "id": "X_mq72ZvprHA",
        "colab_type": "code",
        "colab": {
          "base_uri": "https://localhost:8080/",
          "height": 119
        },
        "outputId": "c52e4434-049d-4d45-84fc-8ff245dfe58b"
      },
      "source": [
        "cross_model_labels = []\n",
        "for xr in xr_imgs:\n",
        "    label = logits_to_label(model2(xr.unsqueeze(0).to(config.device))).item()\n",
        "    cross_model_labels.append(label)\n",
        "cross_model_labels = np.array(cross_model_labels).reshape(4, 4)\n",
        "\n",
        "print(f\"Cross Model Adverserial Predictions:\\n{cross_model_labels}\")\n",
        "print(f\"Attack Success: {(cross_model_labels == xr_labels).sum() / N:.2%}\")"
      ],
      "execution_count": 19,
      "outputs": [
        {
          "output_type": "stream",
          "text": [
            "Cross Model Adverserial Predictions:\n",
            "[[8 8 8 8]\n",
            " [8 8 8 8]\n",
            " [8 8 8 8]\n",
            " [8 8 8 8]]\n",
            "Attack Success: 100.00%\n"
          ],
          "name": "stdout"
        }
      ]
    },
    {
      "cell_type": "markdown",
      "metadata": {
        "id": "jeLlfTNSprHC",
        "colab_type": "text"
      },
      "source": [
        "**Bonus: Try experimenting with the second model's architecture to see if it affects the attack\n",
        "success rate.**"
      ]
    },
    {
      "cell_type": "code",
      "metadata": {
        "id": "k35vzPBhprHD",
        "colab_type": "code",
        "colab": {}
      },
      "source": [
        ""
      ],
      "execution_count": 0,
      "outputs": []
    },
    {
      "cell_type": "markdown",
      "metadata": {
        "id": "I5RD5JlUprHG",
        "colab_type": "text"
      },
      "source": [
        "### Part 2: Fast Gradient Sign Method (Optional)\n",
        "\n",
        "This section implements the [Fast Gradient Sign Method](https://arxiv.org/abs/1412.6572), which is a fast alternative method for finding adversarial examples.  It is untargeted, in the sense that unlike the section above, you don't get to choose what your image gets classified as.\n",
        "\n",
        "The following cell is group of helper functions."
      ]
    },
    {
      "cell_type": "code",
      "metadata": {
        "id": "0LpyaE0wprHG",
        "colab_type": "code",
        "colab": {}
      },
      "source": [
        "device = torch.device(\"cuda\" if torch.cuda.is_available() else \"cpu\")\n",
        "\n",
        "def load_dataset(torchvision_dataset):\n",
        "    save_dir = \"./data\"\n",
        "    transform_list = [transforms.ToTensor()]\n",
        "    transform = transforms.Compose(transform_list)\n",
        "    kwargs = {\n",
        "        \"download\": True,\n",
        "        \"transform\": transform,\n",
        "    }\n",
        "    train = torchvision_dataset(save_dir, train=True, **kwargs)\n",
        "    test = torchvision_dataset(save_dir, train=False, **kwargs)\n",
        "    return train, test\n",
        "\n",
        "\n",
        "def resize_dataset(dataset, dataset_len=None):\n",
        "    if dataset_len is None:\n",
        "        return dataset\n",
        "    assert 0 <= dataset_len <= len(dataset)\n",
        "    ignored_len = len(dataset) - dataset_len\n",
        "    sizes = (dataset_len, ignored_len)\n",
        "    dataset, ignored = random_split(dataset, sizes)\n",
        "    return dataset\n",
        "\n",
        "\n",
        "def make_batches(train, test, batch_size=100):\n",
        "    assert 1 <= batch_size <= len(test)\n",
        "    kwargs = {\n",
        "        \"batch_size\": batch_size,\n",
        "        \"shuffle\": True,\n",
        "    }\n",
        "    train_loader = DataLoader(train, **kwargs)\n",
        "    test_loader = DataLoader(test, **kwargs)\n",
        "    return train_loader, test_loader\n",
        "    \n",
        "def train_model(model, device, train_loader, optimizer, criterion, num_epochs=1):\n",
        "    for epoch in range(num_epochs):\n",
        "        print(\"Training Epoch\", epoch)\n",
        "        for i, (images, targets) in enumerate(train_loader):\n",
        "            images = images.to(device)\n",
        "            targets = targets.to(device)\n",
        "\n",
        "            # Forward\n",
        "            outputs = model(images)\n",
        "\n",
        "            # Backward\n",
        "            optimizer.zero_grad()\n",
        "            loss = criterion(outputs, targets)\n",
        "            loss.backward()\n",
        "            optimizer.step()\n",
        "\n",
        "def test_model(model, device, test_loader):\n",
        "    correct = 0\n",
        "    total = 0\n",
        "    for i, (images, targets) in enumerate(test_loader):\n",
        "        images = images.to(device)\n",
        "        targets = targets.to(device)\n",
        "\n",
        "        # Forward\n",
        "        outputs = model(images)\n",
        "\n",
        "        # Prediction\n",
        "        predicted = torch.argmax(outputs, 1)\n",
        "        total += targets.size(0)\n",
        "        correct += (predicted == targets).sum().item()\n",
        "\n",
        "    accuracy = 100 * correct / total\n",
        "    return accuracy"
      ],
      "execution_count": 0,
      "outputs": []
    },
    {
      "cell_type": "markdown",
      "metadata": {
        "id": "cAT4_ip2prHJ",
        "colab_type": "text"
      },
      "source": [
        "### Model Definition\n",
        "This is our convolutional network that we use to train both our adversarial and non-adversarial models."
      ]
    },
    {
      "cell_type": "code",
      "metadata": {
        "id": "nO1vCzumprHK",
        "colab_type": "code",
        "colab": {}
      },
      "source": [
        "class Conv_Net(nn.Module):\n",
        "    def __init__(self, in_height, in_width, num_targets):\n",
        "        super().__init__()\n",
        "        # Convolutional parameters\n",
        "        kernel_size = 4\n",
        "        stride = 1\n",
        "\n",
        "        # Pool layer and its parameters\n",
        "        pool_kernel_size = 2\n",
        "        pool_stride = pool_kernel_size # When these values are the same it reduces the image by half\n",
        "        self.pool = nn.MaxPool2d(pool_kernel_size, pool_stride)\n",
        "\n",
        "        in_channels_2 = 1\n",
        "        out_channels_2 = 10\n",
        "        self.conv2 = nn.Conv2d(\n",
        "            in_channels_2,\n",
        "            out_channels_2, \n",
        "            kernel_size=kernel_size, \n",
        "            stride=stride, \n",
        "        )\n",
        "        self.bn2 = nn.BatchNorm2d(out_channels_2)\n",
        "\n",
        "        self.conv2_height = height - kernel_size + 1\n",
        "        self.conv2_width = width - kernel_size + 1\n",
        "        self.conv2_size = self.conv2_height * self.conv2_width * out_channels_2\n",
        "\n",
        "        self.pool1_height = int(self.conv2_height / pool_kernel_size)\n",
        "        self.pool1_width = int(self.conv2_height / pool_kernel_size)\n",
        "        self.pool1_size = self.pool1_height * self.pool1_width * out_channels_2\n",
        "\n",
        "        out_channels_3 = 10\n",
        "        self.conv3 = nn.Conv2d(\n",
        "            out_channels_2, \n",
        "            out_channels_3, \n",
        "            kernel_size=kernel_size, \n",
        "            stride=stride, \n",
        "        )\n",
        "        self.bn3 = nn.BatchNorm2d(out_channels_3)\n",
        "\n",
        "        self.conv3_height = self.pool1_height - kernel_size + 1\n",
        "        self.conv3_width = self.pool1_width - kernel_size + 1\n",
        "        self.conv3_size = self.conv3_height * self.conv3_width * out_channels_3\n",
        "\n",
        "        self.pool2_height = int(self.conv3_height / pool_kernel_size)\n",
        "        self.pool2_width = int(self.conv3_height / pool_kernel_size)\n",
        "        self.pool2_size = self.pool2_height * self.pool2_width * out_channels_2\n",
        "\n",
        "        in_features_4 = self.pool2_size\n",
        "        out_features_4 = int(in_features_4 / 2)\n",
        "        self.fc1 = nn.Linear(in_features_4, out_features_4)\n",
        "        self.bn4 = nn.BatchNorm1d(out_features_4)\n",
        "\n",
        "        out_features_5 = int(out_features_4 / 2)\n",
        "        self.fc2 = nn.Linear(out_features_4, out_features_5)\n",
        "        self.bn5 = nn.BatchNorm1d(out_features_5)\n",
        "\n",
        "        self.fc3 = nn.Linear(out_features_5, num_targets)\n",
        "\n",
        "    def forward(self, x):\n",
        "        # First convolution and pooling\n",
        "        x = self.conv2(x)\n",
        "        x = F.relu(x)\n",
        "        x = self.pool(x)\n",
        "        x = self.bn2(x)\n",
        "\n",
        "        # Second convolution and pooling\n",
        "        x = self.conv3(x)\n",
        "        x = F.relu(x)\n",
        "        x = self.pool(x)\n",
        "        x = self.bn3(x)\n",
        "\n",
        "        # Flattening convolutional layer for fully connected layer\n",
        "        batch_size = -1\n",
        "        x = x.view(batch_size, self.pool2_size) # This value was calculated in __init__\n",
        "\n",
        "        # First fcl\n",
        "        x = self.fc1(x)\n",
        "        x = F.relu(x)\n",
        "        x = self.bn4(x)\n",
        "\n",
        "        # Second fcl\n",
        "        x = self.fc2(x)\n",
        "        x = F.relu(x)\n",
        "        x = self.bn5(x)\n",
        "       \n",
        "        # Output fcl\n",
        "        x = self.fc3(x)   \n",
        "        x = F.log_softmax(x, dim=1)\n",
        "        return x"
      ],
      "execution_count": 0,
      "outputs": []
    },
    {
      "cell_type": "markdown",
      "metadata": {
        "id": "xrbxuDq9prHM",
        "colab_type": "text"
      },
      "source": [
        "### Non-adversarial Model"
      ]
    },
    {
      "cell_type": "code",
      "metadata": {
        "id": "5Fw_YkpbprHN",
        "colab_type": "code",
        "colab": {
          "base_uri": "https://localhost:8080/",
          "height": 204
        },
        "outputId": "67846ee3-4d15-495c-f4ed-b512776597d9"
      },
      "source": [
        "# Load data\n",
        "torchvision_dataset = datasets.MNIST\n",
        "train, test = load_dataset(torchvision_dataset)\n",
        "\n",
        "# Find dimensions\n",
        "height, width = train.data[0].shape\n",
        "num_targets = len(set(train.targets.numpy()))\n",
        "\n",
        "# Setting the size to \"None\" will use all instances\n",
        "train_len, test_len = 8000, 2000\n",
        "train = resize_dataset(train, train_len)\n",
        "test = resize_dataset(test, test_len)\n",
        "\n",
        "# Batch\n",
        "batch_size = 100\n",
        "train_loader, test_loader = make_batches(train, test, batch_size)\n",
        "\n",
        "# Make model\n",
        "good_model = Conv_Net(height, width, num_targets).to(device)\n",
        "\n",
        "# Optimizer\n",
        "learning_rate = 0.001\n",
        "optimizer = optim.Adam(good_model.parameters(), lr = learning_rate)\n",
        "\n",
        "# Criterion\n",
        "criterion = nn.CrossEntropyLoss()\n",
        "\n",
        "# Train\n",
        "num_epochs = 10\n",
        "train_model(good_model, device, train_loader, optimizer, criterion, num_epochs)\n",
        "\n",
        "# Test\n",
        "accuracy = test_model(good_model, device, test_loader)\n",
        "print(f\"Original Accuracy: {accuracy} %\")"
      ],
      "execution_count": 22,
      "outputs": [
        {
          "output_type": "stream",
          "text": [
            "Training Epoch 0\n",
            "Training Epoch 1\n",
            "Training Epoch 2\n",
            "Training Epoch 3\n",
            "Training Epoch 4\n",
            "Training Epoch 5\n",
            "Training Epoch 6\n",
            "Training Epoch 7\n",
            "Training Epoch 8\n",
            "Training Epoch 9\n",
            "Original Accuracy: 97.35 %\n"
          ],
          "name": "stdout"
        }
      ]
    },
    {
      "cell_type": "markdown",
      "metadata": {
        "id": "BEg1LWTYprHQ",
        "colab_type": "text"
      },
      "source": [
        "### Adversarial parameters"
      ]
    },
    {
      "cell_type": "code",
      "metadata": {
        "id": "dCycZG_iprHQ",
        "colab_type": "code",
        "colab": {}
      },
      "source": [
        "learning_rate = 0.001\n",
        "# This is the length of the epsilon_list you are going to create. If your list is longer or shorter you must reflect that change in this variable.\n",
        "num_epsilons = 5 \n",
        "\n",
        "# Make a list of epsilon values for the attack\n",
        "epsilon_list = [i / (num_epsilons * 2) for i in range(num_epsilons)]\n",
        "\n",
        "# This is storage for samples from our adversarial model.\n",
        "examples = {\n",
        "    epsilon: {\n",
        "        \"original_images\": [],\n",
        "        \"adversarial_images\": [],\n",
        "        \"original_predictions\": [],\n",
        "        \"adversarial_predictions\": []\n",
        "    }\n",
        "    for epsilon in epsilon_list\n",
        "}"
      ],
      "execution_count": 0,
      "outputs": []
    },
    {
      "cell_type": "markdown",
      "metadata": {
        "id": "qRXwJpspprHS",
        "colab_type": "text"
      },
      "source": [
        "Q: Below you will set the clamp min and max values on the line \"torch.clamp(perturbated_images, clamp_min, clamp_max)\". Why do we need to clamp and what would the effect of using a value outside the range be?\n",
        "\n",
        "A: Our output should be an image, and digital images have a minimum and maximum value for any given color channel.\n",
        "    \n",
        "Q: This is very subtle. Why are we adding our perturbations instead of subtracting them? The goal should be to go in the opposite direction of the gradient. How is addition moving us uphill?\n",
        "\n",
        "A: We could add or subtract them (we would need to change our A.E objective function), the error function is probably not monotonic..."
      ]
    },
    {
      "cell_type": "markdown",
      "metadata": {
        "id": "XyzuDwjIprHT",
        "colab_type": "text"
      },
      "source": [
        "### Adversarial Model"
      ]
    },
    {
      "cell_type": "code",
      "metadata": {
        "id": "wiIgM32BprHT",
        "colab_type": "code",
        "colab": {
          "base_uri": "https://localhost:8080/",
          "height": 1000
        },
        "outputId": "5e6b3986-4eb6-4ec2-8031-0fee1d7b3437"
      },
      "source": [
        "for epsilon in epsilon_list:\n",
        "    print(f\"Epsilon: {epsilon}\")\n",
        "    \n",
        "    # Train Attack model\n",
        "    attack_model = Conv_Net(height, width, num_targets).to(device)\n",
        "\n",
        "    optimizer = optim.Adam(attack_model.parameters(), lr = learning_rate)\n",
        "    criterion = nn.CrossEntropyLoss()\n",
        "\n",
        "    train_model(attack_model, device, train_loader, optimizer, criterion, num_epochs)\n",
        "    pre_attack_accuracy = test_model(attack_model, device, test_loader)\n",
        "    print(f\"Pre-attack Accuracy: {pre_attack_accuracy} %\")\n",
        "\n",
        "    correct = 0\n",
        "    total = 0\n",
        "    sample = True \n",
        "    \n",
        "    for i, (images, targets) in enumerate(test_loader):\n",
        "        images = images.to(device)\n",
        "        # Enable finding gradient w.r.t the inputs.\n",
        "        images.requires_grad = True \n",
        "        targets = targets.to(device)\n",
        "\n",
        "        # Forward\n",
        "        outputs = attack_model(images)\n",
        "        predicted = torch.argmax(outputs, 1)\n",
        "\n",
        "        # Backward\n",
        "        optimizer.zero_grad()\n",
        "        loss = criterion(outputs, targets)\n",
        "        loss.backward()\n",
        "\n",
        "        image_grad = images.grad \n",
        "\n",
        "        grad_sign = image_grad.sign()\n",
        "        perturbation = grad_sign * epsilon\n",
        "        perturbed_images = images + perturbation\n",
        "        clamp_min = 0\n",
        "        clamp_max = 1 # TODO\n",
        "        perturbed_images = torch.clamp(perturbed_images, clamp_min, clamp_max)\n",
        "\n",
        "        attack_output = attack_model(perturbed_images)\n",
        "        attack_predicted = torch.argmax(attack_output, 1)\n",
        "        \n",
        "        total += targets.size(0)\n",
        "        correct += (attack_predicted == targets).sum().item()\n",
        "        \n",
        "        if sample:\n",
        "            sample = False\n",
        "            \n",
        "            with torch.no_grad():\n",
        "                examples[epsilon][\"original_images\"] = images.cpu().numpy()[:num_epsilons]\n",
        "                examples[epsilon][\"adversarial_images\"] = perturbed_images.cpu().numpy()[:num_epsilons]\n",
        "                examples[epsilon][\"original_predictions\"] = predicted.cpu().numpy()[:num_epsilons]\n",
        "                examples[epsilon][\"adversarial_predictions\"] = attack_predicted.cpu().numpy()[:num_epsilons]\n",
        "            \n",
        "        \n",
        "    post_attack_accuracy = correct / total * 100\n",
        "    print(f\"Post-attack Accuracy: {post_attack_accuracy} %\")\n",
        "    print()"
      ],
      "execution_count": 27,
      "outputs": [
        {
          "output_type": "stream",
          "text": [
            "Epsilon: 0.0\n",
            "Training Epoch 0\n",
            "Training Epoch 1\n",
            "Training Epoch 2\n",
            "Training Epoch 3\n",
            "Training Epoch 4\n",
            "Training Epoch 5\n",
            "Training Epoch 6\n",
            "Training Epoch 7\n",
            "Training Epoch 8\n",
            "Training Epoch 9\n",
            "Pre-attack Accuracy: 97.3 %\n",
            "Post-attack Accuracy: 97.2 %\n",
            "\n",
            "Epsilon: 0.1\n",
            "Training Epoch 0\n",
            "Training Epoch 1\n",
            "Training Epoch 2\n",
            "Training Epoch 3\n",
            "Training Epoch 4\n",
            "Training Epoch 5\n",
            "Training Epoch 6\n",
            "Training Epoch 7\n",
            "Training Epoch 8\n",
            "Training Epoch 9\n",
            "Pre-attack Accuracy: 97.2 %\n",
            "Post-attack Accuracy: 81.45 %\n",
            "\n",
            "Epsilon: 0.2\n",
            "Training Epoch 0\n",
            "Training Epoch 1\n",
            "Training Epoch 2\n",
            "Training Epoch 3\n",
            "Training Epoch 4\n",
            "Training Epoch 5\n",
            "Training Epoch 6\n",
            "Training Epoch 7\n",
            "Training Epoch 8\n",
            "Training Epoch 9\n",
            "Pre-attack Accuracy: 97.5 %\n",
            "Post-attack Accuracy: 74.4 %\n",
            "\n",
            "Epsilon: 0.3\n",
            "Training Epoch 0\n",
            "Training Epoch 1\n",
            "Training Epoch 2\n",
            "Training Epoch 3\n",
            "Training Epoch 4\n",
            "Training Epoch 5\n",
            "Training Epoch 6\n",
            "Training Epoch 7\n",
            "Training Epoch 8\n",
            "Training Epoch 9\n",
            "Pre-attack Accuracy: 97.25 %\n",
            "Post-attack Accuracy: 69.65 %\n",
            "\n",
            "Epsilon: 0.4\n",
            "Training Epoch 0\n",
            "Training Epoch 1\n",
            "Training Epoch 2\n",
            "Training Epoch 3\n",
            "Training Epoch 4\n",
            "Training Epoch 5\n",
            "Training Epoch 6\n",
            "Training Epoch 7\n",
            "Training Epoch 8\n",
            "Training Epoch 9\n",
            "Pre-attack Accuracy: 97.55 %\n",
            "Post-attack Accuracy: 64.2 %\n",
            "\n"
          ],
          "name": "stdout"
        }
      ]
    },
    {
      "cell_type": "markdown",
      "metadata": {
        "id": "Odd-BZpwprHV",
        "colab_type": "text"
      },
      "source": [
        "Q: If you were a real attacker that relied on misclassification, how would you deal with the cases where the class was retained?\n",
        "\n",
        "A: Repeat the attack with new pertubations\n",
        "\n",
        "Q: Go back and look at where we set grad_sign. If we had multiplied the gradient instead of the gradient sign by the epsilon value our performance would not be as high. Why?\n",
        "\n",
        "A: because the pertubation would be bigger\n",
        "\n",
        "Q: Our purturbations depended on the gradient of the image. Why is the gradient necessary as opposed to some non-gradient dependent function the input image?\n",
        "\n",
        "A: Because we want to find areas of the image where change greatly effects the classification (which is where the gradient is greatest)\n",
        "\n",
        "Q: You can misclassify an image by just mutating it. What is the point of this model? \n",
        "\n",
        "A: Our mutation are very small"
      ]
    },
    {
      "cell_type": "markdown",
      "metadata": {
        "id": "OxB-tjcUprHV",
        "colab_type": "text"
      },
      "source": [
        "### Plot sample of adversarial images"
      ]
    },
    {
      "cell_type": "code",
      "metadata": {
        "id": "ti_3W5kCprHW",
        "colab_type": "code",
        "colab": {
          "base_uri": "https://localhost:8080/",
          "height": 854
        },
        "outputId": "d09b8bf4-1c36-4ef7-eb3f-76fd90ae8af1"
      },
      "source": [
        "plot_dim = 10, 12\n",
        "plt.figure(figsize=plot_dim)\n",
        "\n",
        "plot_index = 1\n",
        "for row in range(num_epsilons):\n",
        "    for column in range(num_epsilons):\n",
        "        plt.subplot(num_epsilons, num_epsilons, plot_index)\n",
        "\n",
        "        plt.xticks([], [])\n",
        "        plt.yticks([], [])\n",
        "\n",
        "        epsilon = epsilon_list[row]\n",
        "        if column == 0:\n",
        "            plt.ylabel(\"Eps: {}\".format(epsilon), fontsize=14)\n",
        "\n",
        "        adversarial_image = examples[epsilon][\"adversarial_images\"][column].squeeze()\n",
        "        original_prediction = examples[epsilon][\"original_predictions\"][column].item()\n",
        "        adversarial_prediction = examples[epsilon][\"adversarial_predictions\"][column].item()\n",
        "\n",
        "        plt.title(\"{} -> {}\".format(original_prediction, adversarial_prediction))\n",
        "        plt.imshow(adversarial_image, cmap=\"gray\")\n",
        "\n",
        "        plot_index += 1\n",
        "plt.tight_layout()\n",
        "plt.show()"
      ],
      "execution_count": 28,
      "outputs": [
        {
          "output_type": "display_data",
          "data": {
            "image/png": "[encoded data removed]",
            "text/plain": [
              "<Figure size 720x864 with 25 Axes>"
            ]
          },
          "metadata": {
            "tags": []
          }
        }
      ]
    },
    {
      "cell_type": "markdown",
      "metadata": {
        "id": "KIhZKj0ZprHZ",
        "colab_type": "text"
      },
      "source": [
        "### Part 2: Bonus\n",
        "Plot just the purturbations. You can modify the code from the cell above but put the new plotting code in this cell below so that both copies are retained."
      ]
    }
  ]
}